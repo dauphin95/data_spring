{
  "nbformat": 4,
  "nbformat_minor": 0,
  "metadata": {
    "colab": {
      "name": "xgboost.ipynb",
      "provenance": [],
      "authorship_tag": "ABX9TyNentGbHwxHqRUcHpoL+LZk",
      "include_colab_link": true
    },
    "kernelspec": {
      "name": "python3",
      "display_name": "Python 3"
    },
    "language_info": {
      "name": "python"
    }
  },
  "cells": [
    {
      "cell_type": "markdown",
      "metadata": {
        "id": "view-in-github",
        "colab_type": "text"
      },
      "source": [
        "<a href=\"https://colab.research.google.com/github/dauphin95/data_spring/blob/master/xgboost.ipynb\" target=\"_parent\"><img src=\"https://colab.research.google.com/assets/colab-badge.svg\" alt=\"Open In Colab\"/></a>"
      ]
    },
    {
      "cell_type": "markdown",
      "metadata": {
        "id": "YwbRLwJD6gDL"
      },
      "source": [
        "https://xgboost.readthedocs.io/en/latest/python/python_intro.html"
      ]
    },
    {
      "cell_type": "code",
      "metadata": {
        "colab": {
          "base_uri": "https://localhost:8080/",
          "height": 1000
        },
        "id": "sP8q9FWS0fXj",
        "outputId": "252be5e6-1abc-49e3-a8fb-4f715cb6697f"
      },
      "source": [
        "import pandas as pd\n",
        "import xgboost as xgb\n",
        "from sklearn.model_selection import train_test_split \n",
        "import numpy as np\n",
        "from sklearn.metrics import recall_score\n",
        "\n",
        "df = pd.read_csv('credit_cards_dataset.csv')\n",
        "\n",
        "##ndarry 만들기\n",
        "x = df.iloc[:,:-1].values \n",
        "y = df.iloc[:,-1].values\n",
        "\n",
        "## test, train set설정\n",
        "x_train, x_test, y_train, y_test = train_test_split(x, y, train_size = 0.7, random_state = 123)\n",
        "\n",
        "## XGB DMatrix 설정\n",
        "dtrain = xgb.DMatrix(x_train, y_train)\n",
        "dtest = xgb.DMatrix(x_test, y_test)\n",
        "\n",
        "## param 설정\n",
        "param = {'max_depth': 10, 'eta': 0.01, 'objective': 'binary:logistic'}\n",
        "param['nthread'] = 4\n",
        "param['eval_metric'] = 'auc'\n",
        "evallist = [(dtest, 'eval'), (dtrain, 'train')]\n",
        "\n",
        "## training\n",
        "num_round = 100\n",
        "bst = xgb.train(param, dtrain, num_round, evallist)\n",
        "## training후 파일 저장\n",
        "bst.save_model('0001.model')\n",
        "\n",
        "## 결론 : accuracy가 num_round수를 올릴때마다 올라감, but 너무 늘릴경우 overfitting 됨\n",
        "## gradian을 배워야 적정선의 num_round 수를 지정할 수 있음\n",
        "\n",
        "## predict\n",
        "ypred = bst.predict(dtest)\n",
        "prediction = np.round(ypred)\n",
        "##prediction을 y_test(정답)과 비교\n",
        "print(recall_score(y_test, prediction))\n",
        "\n",
        "## plotting\n",
        "## f1 score을 기준으로 feature간 관련도 표시\n",
        "xgb.plot_importance(bst)"
      ],
      "execution_count": 28,
      "outputs": [
        {
          "output_type": "stream",
          "name": "stdout",
          "text": [
            "[0]\teval-auc:0.753648\ttrain-auc:0.811806\n",
            "[1]\teval-auc:0.756064\ttrain-auc:0.815282\n",
            "[2]\teval-auc:0.755979\ttrain-auc:0.815175\n",
            "[3]\teval-auc:0.757937\ttrain-auc:0.819692\n",
            "[4]\teval-auc:0.758699\ttrain-auc:0.820853\n",
            "[5]\teval-auc:0.758992\ttrain-auc:0.822227\n",
            "[6]\teval-auc:0.763137\ttrain-auc:0.828509\n",
            "[7]\teval-auc:0.762283\ttrain-auc:0.829336\n",
            "[8]\teval-auc:0.764294\ttrain-auc:0.829054\n",
            "[9]\teval-auc:0.765081\ttrain-auc:0.831406\n",
            "[10]\teval-auc:0.764833\ttrain-auc:0.832334\n",
            "[11]\teval-auc:0.765664\ttrain-auc:0.833921\n",
            "[12]\teval-auc:0.76597\ttrain-auc:0.834322\n",
            "[13]\teval-auc:0.766732\ttrain-auc:0.835776\n",
            "[14]\teval-auc:0.768411\ttrain-auc:0.839042\n",
            "[15]\teval-auc:0.768371\ttrain-auc:0.839426\n",
            "[16]\teval-auc:0.768564\ttrain-auc:0.840072\n",
            "[17]\teval-auc:0.769404\ttrain-auc:0.84223\n",
            "[18]\teval-auc:0.769437\ttrain-auc:0.842856\n",
            "[19]\teval-auc:0.769721\ttrain-auc:0.843769\n",
            "[20]\teval-auc:0.769633\ttrain-auc:0.844268\n",
            "[21]\teval-auc:0.770198\ttrain-auc:0.845046\n",
            "[22]\teval-auc:0.770032\ttrain-auc:0.845286\n",
            "[23]\teval-auc:0.770492\ttrain-auc:0.845967\n",
            "[24]\teval-auc:0.770414\ttrain-auc:0.846151\n",
            "[25]\teval-auc:0.770751\ttrain-auc:0.846561\n",
            "[26]\teval-auc:0.770898\ttrain-auc:0.847301\n",
            "[27]\teval-auc:0.77128\ttrain-auc:0.847687\n",
            "[28]\teval-auc:0.771562\ttrain-auc:0.84819\n",
            "[29]\teval-auc:0.772109\ttrain-auc:0.848926\n",
            "[30]\teval-auc:0.772382\ttrain-auc:0.849093\n",
            "[31]\teval-auc:0.772326\ttrain-auc:0.849362\n",
            "[32]\teval-auc:0.772663\ttrain-auc:0.849387\n",
            "[33]\teval-auc:0.772924\ttrain-auc:0.849891\n",
            "[34]\teval-auc:0.772839\ttrain-auc:0.850079\n",
            "[35]\teval-auc:0.773021\ttrain-auc:0.850328\n",
            "[36]\teval-auc:0.773187\ttrain-auc:0.850383\n",
            "[37]\teval-auc:0.773185\ttrain-auc:0.850931\n",
            "[38]\teval-auc:0.773556\ttrain-auc:0.85144\n",
            "[39]\teval-auc:0.773661\ttrain-auc:0.85172\n",
            "[40]\teval-auc:0.773857\ttrain-auc:0.851928\n",
            "[41]\teval-auc:0.773851\ttrain-auc:0.852229\n",
            "[42]\teval-auc:0.773974\ttrain-auc:0.852209\n",
            "[43]\teval-auc:0.773943\ttrain-auc:0.852212\n",
            "[44]\teval-auc:0.774063\ttrain-auc:0.852437\n",
            "[45]\teval-auc:0.774009\ttrain-auc:0.852524\n",
            "[46]\teval-auc:0.774138\ttrain-auc:0.852682\n",
            "[47]\teval-auc:0.774226\ttrain-auc:0.85284\n",
            "[48]\teval-auc:0.774338\ttrain-auc:0.853052\n",
            "[49]\teval-auc:0.774321\ttrain-auc:0.853025\n",
            "[50]\teval-auc:0.774356\ttrain-auc:0.853387\n",
            "[51]\teval-auc:0.774602\ttrain-auc:0.853673\n",
            "[52]\teval-auc:0.774785\ttrain-auc:0.853882\n",
            "[53]\teval-auc:0.774784\ttrain-auc:0.853889\n",
            "[54]\teval-auc:0.774867\ttrain-auc:0.854213\n",
            "[55]\teval-auc:0.77499\ttrain-auc:0.854587\n",
            "[56]\teval-auc:0.775054\ttrain-auc:0.854861\n",
            "[57]\teval-auc:0.775243\ttrain-auc:0.855298\n",
            "[58]\teval-auc:0.775302\ttrain-auc:0.855463\n",
            "[59]\teval-auc:0.775418\ttrain-auc:0.855566\n",
            "[60]\teval-auc:0.775631\ttrain-auc:0.855982\n",
            "[61]\teval-auc:0.775708\ttrain-auc:0.856048\n",
            "[62]\teval-auc:0.775826\ttrain-auc:0.856448\n",
            "[63]\teval-auc:0.775927\ttrain-auc:0.856447\n",
            "[64]\teval-auc:0.7759\ttrain-auc:0.856778\n",
            "[65]\teval-auc:0.775968\ttrain-auc:0.857169\n",
            "[66]\teval-auc:0.775988\ttrain-auc:0.857503\n",
            "[67]\teval-auc:0.776037\ttrain-auc:0.857944\n",
            "[68]\teval-auc:0.776071\ttrain-auc:0.85842\n",
            "[69]\teval-auc:0.776033\ttrain-auc:0.858913\n",
            "[70]\teval-auc:0.775988\ttrain-auc:0.859211\n",
            "[71]\teval-auc:0.776062\ttrain-auc:0.859667\n",
            "[72]\teval-auc:0.776063\ttrain-auc:0.859965\n",
            "[73]\teval-auc:0.776053\ttrain-auc:0.86038\n",
            "[74]\teval-auc:0.776129\ttrain-auc:0.860768\n",
            "[75]\teval-auc:0.776197\ttrain-auc:0.861123\n",
            "[76]\teval-auc:0.776219\ttrain-auc:0.861461\n",
            "[77]\teval-auc:0.776459\ttrain-auc:0.862543\n",
            "[78]\teval-auc:0.776635\ttrain-auc:0.863487\n",
            "[79]\teval-auc:0.776631\ttrain-auc:0.864405\n",
            "[80]\teval-auc:0.776564\ttrain-auc:0.865257\n",
            "[81]\teval-auc:0.776527\ttrain-auc:0.866062\n",
            "[82]\teval-auc:0.77649\ttrain-auc:0.866722\n",
            "[83]\teval-auc:0.776547\ttrain-auc:0.867389\n",
            "[84]\teval-auc:0.776528\ttrain-auc:0.867955\n",
            "[85]\teval-auc:0.776483\ttrain-auc:0.868456\n",
            "[86]\teval-auc:0.776495\ttrain-auc:0.868972\n",
            "[87]\teval-auc:0.776436\ttrain-auc:0.869417\n",
            "[88]\teval-auc:0.776394\ttrain-auc:0.869869\n",
            "[89]\teval-auc:0.77637\ttrain-auc:0.870297\n",
            "[90]\teval-auc:0.7763\ttrain-auc:0.870849\n",
            "[91]\teval-auc:0.776197\ttrain-auc:0.871292\n",
            "[92]\teval-auc:0.776146\ttrain-auc:0.871899\n",
            "[93]\teval-auc:0.776272\ttrain-auc:0.872816\n",
            "[94]\teval-auc:0.776277\ttrain-auc:0.873654\n",
            "[95]\teval-auc:0.77622\ttrain-auc:0.874394\n",
            "[96]\teval-auc:0.776224\ttrain-auc:0.875086\n",
            "[97]\teval-auc:0.776265\ttrain-auc:0.875589\n",
            "[98]\teval-auc:0.776229\ttrain-auc:0.876223\n",
            "[99]\teval-auc:0.776151\ttrain-auc:0.876847\n",
            "[100]\teval-auc:0.776171\ttrain-auc:0.877393\n",
            "[101]\teval-auc:0.776087\ttrain-auc:0.877935\n",
            "[102]\teval-auc:0.776115\ttrain-auc:0.878373\n",
            "[103]\teval-auc:0.776163\ttrain-auc:0.878821\n",
            "[104]\teval-auc:0.776164\ttrain-auc:0.879236\n",
            "[105]\teval-auc:0.776067\ttrain-auc:0.879639\n",
            "[106]\teval-auc:0.776035\ttrain-auc:0.879987\n",
            "[107]\teval-auc:0.775979\ttrain-auc:0.880402\n",
            "[108]\teval-auc:0.776066\ttrain-auc:0.881004\n",
            "[109]\teval-auc:0.77608\ttrain-auc:0.881285\n",
            "[110]\teval-auc:0.776045\ttrain-auc:0.881588\n",
            "[111]\teval-auc:0.776014\ttrain-auc:0.881937\n",
            "[112]\teval-auc:0.776069\ttrain-auc:0.882311\n",
            "[113]\teval-auc:0.776096\ttrain-auc:0.882622\n",
            "[114]\teval-auc:0.776174\ttrain-auc:0.882942\n",
            "[115]\teval-auc:0.776219\ttrain-auc:0.883228\n",
            "[116]\teval-auc:0.776247\ttrain-auc:0.883532\n",
            "[117]\teval-auc:0.776324\ttrain-auc:0.883866\n",
            "[118]\teval-auc:0.776256\ttrain-auc:0.884112\n",
            "[119]\teval-auc:0.776193\ttrain-auc:0.884705\n",
            "[120]\teval-auc:0.776263\ttrain-auc:0.885198\n",
            "[121]\teval-auc:0.776328\ttrain-auc:0.885535\n",
            "[122]\teval-auc:0.77633\ttrain-auc:0.885766\n",
            "[123]\teval-auc:0.776187\ttrain-auc:0.886213\n",
            "[124]\teval-auc:0.776216\ttrain-auc:0.886793\n",
            "[125]\teval-auc:0.776306\ttrain-auc:0.887073\n",
            "[126]\teval-auc:0.776306\ttrain-auc:0.887341\n",
            "[127]\teval-auc:0.77633\ttrain-auc:0.887827\n",
            "[128]\teval-auc:0.776317\ttrain-auc:0.888258\n",
            "[129]\teval-auc:0.77638\ttrain-auc:0.888518\n",
            "[130]\teval-auc:0.776342\ttrain-auc:0.888731\n",
            "[131]\teval-auc:0.776299\ttrain-auc:0.889059\n",
            "[132]\teval-auc:0.776178\ttrain-auc:0.889468\n",
            "[133]\teval-auc:0.776152\ttrain-auc:0.889762\n",
            "[134]\teval-auc:0.776112\ttrain-auc:0.89018\n",
            "[135]\teval-auc:0.776051\ttrain-auc:0.890545\n",
            "[136]\teval-auc:0.776058\ttrain-auc:0.890884\n",
            "[137]\teval-auc:0.775996\ttrain-auc:0.891178\n",
            "[138]\teval-auc:0.775977\ttrain-auc:0.891438\n",
            "[139]\teval-auc:0.776036\ttrain-auc:0.891993\n",
            "[140]\teval-auc:0.776016\ttrain-auc:0.892268\n",
            "[141]\teval-auc:0.776022\ttrain-auc:0.892701\n",
            "[142]\teval-auc:0.776029\ttrain-auc:0.893146\n",
            "[143]\teval-auc:0.775922\ttrain-auc:0.893409\n",
            "[144]\teval-auc:0.775893\ttrain-auc:0.893883\n",
            "[145]\teval-auc:0.775747\ttrain-auc:0.894141\n",
            "[146]\teval-auc:0.775738\ttrain-auc:0.894495\n",
            "[147]\teval-auc:0.775672\ttrain-auc:0.894804\n",
            "[148]\teval-auc:0.775688\ttrain-auc:0.89519\n",
            "[149]\teval-auc:0.77558\ttrain-auc:0.895461\n",
            "[150]\teval-auc:0.775597\ttrain-auc:0.895806\n",
            "[151]\teval-auc:0.775678\ttrain-auc:0.896218\n",
            "[152]\teval-auc:0.775607\ttrain-auc:0.896448\n",
            "[153]\teval-auc:0.775607\ttrain-auc:0.896973\n",
            "[154]\teval-auc:0.775809\ttrain-auc:0.897625\n",
            "[155]\teval-auc:0.775875\ttrain-auc:0.898133\n",
            "[156]\teval-auc:0.775909\ttrain-auc:0.89835\n",
            "[157]\teval-auc:0.775987\ttrain-auc:0.89889\n",
            "[158]\teval-auc:0.776022\ttrain-auc:0.899335\n",
            "[159]\teval-auc:0.776059\ttrain-auc:0.899648\n",
            "[160]\teval-auc:0.776098\ttrain-auc:0.900116\n",
            "[161]\teval-auc:0.776127\ttrain-auc:0.900416\n",
            "[162]\teval-auc:0.776173\ttrain-auc:0.900878\n",
            "[163]\teval-auc:0.776222\ttrain-auc:0.901297\n",
            "[164]\teval-auc:0.776274\ttrain-auc:0.901753\n",
            "[165]\teval-auc:0.776291\ttrain-auc:0.902197\n",
            "[166]\teval-auc:0.776344\ttrain-auc:0.902591\n",
            "[167]\teval-auc:0.776334\ttrain-auc:0.902958\n",
            "[168]\teval-auc:0.776357\ttrain-auc:0.903424\n",
            "[169]\teval-auc:0.776316\ttrain-auc:0.903872\n",
            "[170]\teval-auc:0.776297\ttrain-auc:0.904268\n",
            "[171]\teval-auc:0.776376\ttrain-auc:0.904699\n",
            "[172]\teval-auc:0.77641\ttrain-auc:0.905098\n",
            "[173]\teval-auc:0.776452\ttrain-auc:0.905411\n",
            "[174]\teval-auc:0.776446\ttrain-auc:0.905785\n",
            "[175]\teval-auc:0.776509\ttrain-auc:0.906126\n",
            "[176]\teval-auc:0.776545\ttrain-auc:0.906817\n",
            "[177]\teval-auc:0.776544\ttrain-auc:0.907146\n",
            "[178]\teval-auc:0.776474\ttrain-auc:0.907499\n",
            "[179]\teval-auc:0.776378\ttrain-auc:0.907846\n",
            "[180]\teval-auc:0.776434\ttrain-auc:0.90849\n",
            "[181]\teval-auc:0.776479\ttrain-auc:0.908814\n",
            "[182]\teval-auc:0.776429\ttrain-auc:0.909145\n",
            "[183]\teval-auc:0.776485\ttrain-auc:0.909745\n",
            "[184]\teval-auc:0.77645\ttrain-auc:0.91\n",
            "[185]\teval-auc:0.776417\ttrain-auc:0.910258\n",
            "[186]\teval-auc:0.776451\ttrain-auc:0.91079\n",
            "[187]\teval-auc:0.7764\ttrain-auc:0.911078\n",
            "[188]\teval-auc:0.776322\ttrain-auc:0.91142\n",
            "[189]\teval-auc:0.776352\ttrain-auc:0.911903\n",
            "[190]\teval-auc:0.776262\ttrain-auc:0.912202\n",
            "[191]\teval-auc:0.776289\ttrain-auc:0.912681\n",
            "[192]\teval-auc:0.776295\ttrain-auc:0.912921\n",
            "[193]\teval-auc:0.776289\ttrain-auc:0.913186\n",
            "[194]\teval-auc:0.776236\ttrain-auc:0.913408\n",
            "[195]\teval-auc:0.776224\ttrain-auc:0.913658\n",
            "[196]\teval-auc:0.776237\ttrain-auc:0.91411\n",
            "[197]\teval-auc:0.776196\ttrain-auc:0.914319\n",
            "[198]\teval-auc:0.776173\ttrain-auc:0.914745\n",
            "[199]\teval-auc:0.776123\ttrain-auc:0.914953\n",
            "0.3701232032854209\n"
          ]
        },
        {
          "output_type": "execute_result",
          "data": {
            "text/plain": [
              "<matplotlib.axes._subplots.AxesSubplot at 0x7f6fcaf93e90>"
            ]
          },
          "metadata": {},
          "execution_count": 28
        },
        {
          "output_type": "display_data",
          "data": {
            "image/png": "[encoded data removed]",
            "text/plain": [
              "<Figure size 432x288 with 1 Axes>"
            ]
          },
          "metadata": {
            "needs_background": "light"
          }
        }
      ]
    },
    {
      "cell_type": "code",
      "metadata": {
        "id": "L0o67UVw1igs"
      },
      "source": [
        ""
      ],
      "execution_count": null,
      "outputs": []
    },
    {
      "cell_type": "code",
      "metadata": {
        "id": "ZD3Zuuq-1fWA"
      },
      "source": [
        ""
      ],
      "execution_count": null,
      "outputs": []
    },
    {
      "cell_type": "code",
      "metadata": {
        "id": "yP6X7O8r1dR4"
      },
      "source": [
        ""
      ],
      "execution_count": null,
      "outputs": []
    },
    {
      "cell_type": "code",
      "metadata": {
        "id": "8wJbZd5i1bUg"
      },
      "source": [
        ""
      ],
      "execution_count": null,
      "outputs": []
    }
  ]
}