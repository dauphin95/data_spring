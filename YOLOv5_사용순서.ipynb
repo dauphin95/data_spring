{
  "nbformat": 4,
  "nbformat_minor": 0,
  "metadata": {
    "colab": {
      "name": "Untitled19.ipynb",
      "provenance": [],
      "authorship_tag": "ABX9TyN1VxnaJYtyhAcqloeIv2bV",
      "include_colab_link": true
    },
    "kernelspec": {
      "name": "python3",
      "display_name": "Python 3"
    },
    "language_info": {
      "name": "python"
    }
  },
  "cells": [
    {
      "cell_type": "markdown",
      "metadata": {
        "id": "view-in-github",
        "colab_type": "text"
      },
      "source": [
        "<a href=\"https://colab.research.google.com/github/dauphin95/data_spring/blob/master/YOLOv5_%EC%82%AC%EC%9A%A9%EC%88%9C%EC%84%9C.ipynb\" target=\"_parent\"><img src=\"https://colab.research.google.com/assets/colab-badge.svg\" alt=\"Open In Colab\"/></a>"
      ]
    },
    {
      "cell_type": "code",
      "metadata": {
        "id": "Sds_rQLm-nXQ"
      },
      "source": [
        ""
      ],
      "execution_count": null,
      "outputs": []
    },
    {
      "cell_type": "markdown",
      "metadata": {
        "id": "4Ij2umE_-1xq"
      },
      "source": [
        "YOLOv5은 \n",
        "1. 이미지 파일과, \n",
        "2. 이미지에서 object의 위치를 박스로 표시한 좌표의 정보를 담은 라벨 파일 -> darknet이라는 라벨링 툴을 이용, supervisely라는 웹사이트\n",
        "3. 데이터셋의 클래스명과 갯수, \n",
        "4. 경로에 대한 정보를 담고있는 data_config.yaml파일이 있어야 합니다"
      ]
    },
    {
      "cell_type": "markdown",
      "metadata": {
        "id": "-abJcT3f_af2"
      },
      "source": [
        "(1) coco128dataset의 data_config -> 수정\n",
        "\n",
        "import yaml\n",
        "with open(\"/content/electricscooter/es_project/data_config.yaml\",\"r\") as f:\n",
        "  data = yaml.load(f)\n",
        "  \n",
        "data[\"train\"] = \"/content/electricscooter/es_project/train.txt\"\n",
        "\n",
        "data[\"val\"] = \"/content/electricscooter/es_project/val.txt\"\n",
        "\n",
        "with open(\"/content/electricscooter/es_project/data_config.yaml\",\"w\") as f:\n",
        "  yaml.dump(data,f)\n",
        "\n",
        "data_config.yaml파일의 내용을 수정\n",
        "%cat /content/electricscooter/es_project/data_config.yaml \n",
        "수정된 data_config.yaml확인\n",
        "\n",
        "\n"
      ]
    },
    {
      "cell_type": "markdown",
      "metadata": {
        "id": "lxongz8p_9ZA"
      },
      "source": [
        "(2)  train, val set의 파일명 리스트\n",
        "\n",
        "from glob import glob\n",
        "\n",
        "train_img_list = glob(\"/content/electricscooter/es_project/images/train/*.jpg\")\n",
        "\n",
        "val_img_list = glob(\"/content/electricscooter/es_project/images/val/*.jpg\")"
      ]
    },
    {
      "cell_type": "markdown",
      "metadata": {
        "id": "sk3oduDgAIOA"
      },
      "source": [
        "(3) 파일명 리스트를 train.txt, val.txt로 각각 저장\n",
        "\n",
        "train.txt파일의 내용을 다운로드한 train img list로 작성\n",
        "\n",
        "with open(\"/content/electricscooter/es_project/train.txt\",\"w\") as f: f.write(\"\\n\".join(train_img_list)+\"\\n\")\n",
        "\n",
        "val.txt의 내용을 다운로드한 val img list로 작성\n",
        "\n",
        "with open(\"/content/electricscooter/es_project/val.txt\",\"w\") as f:\n",
        "  f.write(\"\\n\".join(val_img_list)+\"\\n\")\n",
        "\n"
      ]
    },
    {
      "cell_type": "code",
      "metadata": {
        "id": "X3dmZR_v_-0I"
      },
      "source": [
        ""
      ],
      "execution_count": null,
      "outputs": []
    },
    {
      "cell_type": "code",
      "metadata": {
        "id": "sO0nOUsc_A1v"
      },
      "source": [
        ""
      ],
      "execution_count": null,
      "outputs": []
    }
  ]
}