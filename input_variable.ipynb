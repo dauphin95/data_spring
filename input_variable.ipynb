{
  "nbformat": 4,
  "nbformat_minor": 0,
  "metadata": {
    "colab": {
      "name": "input_variable.ipynb",
      "provenance": [],
      "authorship_tag": "ABX9TyNpVnwCP7mvCvZFfmrh1Sv7",
      "include_colab_link": true
    },
    "kernelspec": {
      "name": "python3",
      "display_name": "Python 3"
    },
    "language_info": {
      "name": "python"
    }
  },
  "cells": [
    {
      "cell_type": "markdown",
      "metadata": {
        "id": "view-in-github",
        "colab_type": "text"
      },
      "source": [
        "<a href=\"https://colab.research.google.com/github/dauphin95/data_spring/blob/master/input_variable.ipynb\" target=\"_parent\"><img src=\"https://colab.research.google.com/assets/colab-badge.svg\" alt=\"Open In Colab\"/></a>"
      ]
    },
    {
      "cell_type": "code",
      "metadata": {
        "id": "Ag5RwLykXiJ3"
      },
      "source": [
        "import pandas as pd\n",
        "df1 = pd.read_csv('weather_dataset(2017-2020).csv')\n",
        "df = pd.read_csv('pollution_dataset(2017-2020).csv')"
      ],
      "execution_count": 20,
      "outputs": []
    },
    {
      "cell_type": "code",
      "metadata": {
        "colab": {
          "base_uri": "https://localhost:8080/"
        },
        "id": "ME4NcXD-3nvS",
        "outputId": "e8116f32-4367-42ad-8820-cb6942f34965"
      },
      "source": [
        "df1.isnull().sum()"
      ],
      "execution_count": 21,
      "outputs": [
        {
          "output_type": "execute_result",
          "data": {
            "text/plain": [
              "Unnamed: 0      0\n",
              "지점              0\n",
              "지점명             0\n",
              "일시              0\n",
              "평균기온(°C)      151\n",
              "일강수량(mm)        7\n",
              "평균 풍속(m/s)    135\n",
              "년               0\n",
              "월               0\n",
              "dtype: int64"
            ]
          },
          "metadata": {},
          "execution_count": 21
        }
      ]
    },
    {
      "cell_type": "code",
      "metadata": {
        "id": "bLNMXD7LxPGL"
      },
      "source": [
        "## 결측치 처리\n",
        "df1['일강수량(mm)'].fillna(0, inplace=True)\n",
        "df1['평균기온(°C)'].fillna(method='ffill', inplace=True)\n",
        "df1['평균 풍속(m/s)'].dropna(axis = 0, inplace=True)"
      ],
      "execution_count": 26,
      "outputs": []
    },
    {
      "cell_type": "code",
      "metadata": {
        "colab": {
          "base_uri": "https://localhost:8080/"
        },
        "id": "_2X4zCu1D22B",
        "outputId": "ba714fad-aa00-4225-bb94-9adeb07188f5"
      },
      "source": [
        "df1['평균 풍속(m/s)'][255]"
      ],
      "execution_count": 27,
      "outputs": [
        {
          "output_type": "execute_result",
          "data": {
            "text/plain": [
              "nan"
            ]
          },
          "metadata": {},
          "execution_count": 27
        }
      ]
    },
    {
      "cell_type": "code",
      "metadata": {
        "colab": {
          "base_uri": "https://localhost:8080/",
          "height": 173
        },
        "id": "OXtKD3GDCMGJ",
        "outputId": "b6cd68f2-5496-45b7-c384-17db19183043"
      },
      "source": [
        "df1.iloc[253:257]"
      ],
      "execution_count": 15,
      "outputs": [
        {
          "output_type": "execute_result",
          "data": {
            "text/html": [
              "<div>\n",
              "<style scoped>\n",
              "    .dataframe tbody tr th:only-of-type {\n",
              "        vertical-align: middle;\n",
              "    }\n",
              "\n",
              "    .dataframe tbody tr th {\n",
              "        vertical-align: top;\n",
              "    }\n",
              "\n",
              "    .dataframe thead th {\n",
              "        text-align: right;\n",
              "    }\n",
              "</style>\n",
              "<table border=\"1\" class=\"dataframe\">\n",
              "  <thead>\n",
              "    <tr style=\"text-align: right;\">\n",
              "      <th></th>\n",
              "      <th>Unnamed: 0</th>\n",
              "      <th>지점</th>\n",
              "      <th>지점명</th>\n",
              "      <th>일시</th>\n",
              "      <th>평균기온(°C)</th>\n",
              "      <th>일강수량(mm)</th>\n",
              "      <th>평균 풍속(m/s)</th>\n",
              "      <th>년</th>\n",
              "      <th>월</th>\n",
              "    </tr>\n",
              "  </thead>\n",
              "  <tbody>\n",
              "    <tr>\n",
              "      <th>253</th>\n",
              "      <td>253</td>\n",
              "      <td>401</td>\n",
              "      <td>서초구</td>\n",
              "      <td>2016.9.10</td>\n",
              "      <td>25.3</td>\n",
              "      <td>0.0</td>\n",
              "      <td>0.6</td>\n",
              "      <td>2016</td>\n",
              "      <td>9</td>\n",
              "    </tr>\n",
              "    <tr>\n",
              "      <th>254</th>\n",
              "      <td>254</td>\n",
              "      <td>401</td>\n",
              "      <td>서초구</td>\n",
              "      <td>2016.9.11</td>\n",
              "      <td>25.7</td>\n",
              "      <td>0.0</td>\n",
              "      <td>0.7</td>\n",
              "      <td>2016</td>\n",
              "      <td>9</td>\n",
              "    </tr>\n",
              "    <tr>\n",
              "      <th>255</th>\n",
              "      <td>255</td>\n",
              "      <td>401</td>\n",
              "      <td>서초구</td>\n",
              "      <td>2016.9.12</td>\n",
              "      <td>25.7</td>\n",
              "      <td>0.0</td>\n",
              "      <td>NaN</td>\n",
              "      <td>2016</td>\n",
              "      <td>9</td>\n",
              "    </tr>\n",
              "    <tr>\n",
              "      <th>256</th>\n",
              "      <td>256</td>\n",
              "      <td>401</td>\n",
              "      <td>서초구</td>\n",
              "      <td>2016.9.13</td>\n",
              "      <td>25.8</td>\n",
              "      <td>0.0</td>\n",
              "      <td>1.0</td>\n",
              "      <td>2016</td>\n",
              "      <td>9</td>\n",
              "    </tr>\n",
              "  </tbody>\n",
              "</table>\n",
              "</div>"
            ],
            "text/plain": [
              "     Unnamed: 0   지점  지점명         일시  평균기온(°C)  일강수량(mm)  평균 풍속(m/s)     년  월\n",
              "253         253  401  서초구  2016.9.10      25.3       0.0         0.6  2016  9\n",
              "254         254  401  서초구  2016.9.11      25.7       0.0         0.7  2016  9\n",
              "255         255  401  서초구  2016.9.12      25.7       0.0         NaN  2016  9\n",
              "256         256  401  서초구  2016.9.13      25.8       0.0         1.0  2016  9"
            ]
          },
          "metadata": {},
          "execution_count": 15
        }
      ]
    },
    {
      "cell_type": "code",
      "metadata": {
        "id": "GN5v8QDm0Ff6"
      },
      "source": [
        "## 일시 형식 일치 (0000-00-00)\n",
        "df1['일시'] = df1['일시'].astype('str')\n",
        "df1['일시'] = df1['일시'].astype('datetime64[ns]')\n",
        "df1['일시'] = df1['일시'].astype('str')\n",
        "df1['일시'] .replace('.','-')\n",
        "\n",
        "## 컬럼명 일치\n",
        "df.rename(columns={'측정소명':'지점명'}, inplace=True)\n",
        "df1.rename(columns={'일시':'측정일시'}, inplace=True)"
      ],
      "execution_count": 28,
      "outputs": []
    },
    {
      "cell_type": "code",
      "metadata": {
        "colab": {
          "base_uri": "https://localhost:8080/",
          "height": 204
        },
        "id": "rSmO7fzetg-a",
        "outputId": "f20947d3-118c-4c19-b944-516905e9e297"
      },
      "source": [
        "df1.head()"
      ],
      "execution_count": 29,
      "outputs": [
        {
          "output_type": "execute_result",
          "data": {
            "text/html": [
              "<div>\n",
              "<style scoped>\n",
              "    .dataframe tbody tr th:only-of-type {\n",
              "        vertical-align: middle;\n",
              "    }\n",
              "\n",
              "    .dataframe tbody tr th {\n",
              "        vertical-align: top;\n",
              "    }\n",
              "\n",
              "    .dataframe thead th {\n",
              "        text-align: right;\n",
              "    }\n",
              "</style>\n",
              "<table border=\"1\" class=\"dataframe\">\n",
              "  <thead>\n",
              "    <tr style=\"text-align: right;\">\n",
              "      <th></th>\n",
              "      <th>Unnamed: 0</th>\n",
              "      <th>지점</th>\n",
              "      <th>지점명</th>\n",
              "      <th>측정일시</th>\n",
              "      <th>평균기온(°C)</th>\n",
              "      <th>일강수량(mm)</th>\n",
              "      <th>평균 풍속(m/s)</th>\n",
              "      <th>년</th>\n",
              "      <th>월</th>\n",
              "    </tr>\n",
              "  </thead>\n",
              "  <tbody>\n",
              "    <tr>\n",
              "      <th>0</th>\n",
              "      <td>0</td>\n",
              "      <td>401</td>\n",
              "      <td>서초구</td>\n",
              "      <td>2016-01-01</td>\n",
              "      <td>2.5</td>\n",
              "      <td>0.0</td>\n",
              "      <td>0.6</td>\n",
              "      <td>2016</td>\n",
              "      <td>1</td>\n",
              "    </tr>\n",
              "    <tr>\n",
              "      <th>1</th>\n",
              "      <td>1</td>\n",
              "      <td>401</td>\n",
              "      <td>서초구</td>\n",
              "      <td>2016-01-02</td>\n",
              "      <td>7.5</td>\n",
              "      <td>0.0</td>\n",
              "      <td>0.8</td>\n",
              "      <td>2016</td>\n",
              "      <td>1</td>\n",
              "    </tr>\n",
              "    <tr>\n",
              "      <th>2</th>\n",
              "      <td>2</td>\n",
              "      <td>401</td>\n",
              "      <td>서초구</td>\n",
              "      <td>2016-01-03</td>\n",
              "      <td>7.6</td>\n",
              "      <td>0.0</td>\n",
              "      <td>0.6</td>\n",
              "      <td>2016</td>\n",
              "      <td>1</td>\n",
              "    </tr>\n",
              "    <tr>\n",
              "      <th>3</th>\n",
              "      <td>3</td>\n",
              "      <td>401</td>\n",
              "      <td>서초구</td>\n",
              "      <td>2016-01-04</td>\n",
              "      <td>3.4</td>\n",
              "      <td>0.0</td>\n",
              "      <td>1.8</td>\n",
              "      <td>2016</td>\n",
              "      <td>1</td>\n",
              "    </tr>\n",
              "    <tr>\n",
              "      <th>4</th>\n",
              "      <td>4</td>\n",
              "      <td>401</td>\n",
              "      <td>서초구</td>\n",
              "      <td>2016-01-05</td>\n",
              "      <td>-0.8</td>\n",
              "      <td>0.0</td>\n",
              "      <td>1.5</td>\n",
              "      <td>2016</td>\n",
              "      <td>1</td>\n",
              "    </tr>\n",
              "  </tbody>\n",
              "</table>\n",
              "</div>"
            ],
            "text/plain": [
              "   Unnamed: 0   지점  지점명        측정일시  평균기온(°C)  일강수량(mm)  평균 풍속(m/s)     년  월\n",
              "0           0  401  서초구  2016-01-01       2.5       0.0         0.6  2016  1\n",
              "1           1  401  서초구  2016-01-02       7.5       0.0         0.8  2016  1\n",
              "2           2  401  서초구  2016-01-03       7.6       0.0         0.6  2016  1\n",
              "3           3  401  서초구  2016-01-04       3.4       0.0         1.8  2016  1\n",
              "4           4  401  서초구  2016-01-05      -0.8       0.0         1.5  2016  1"
            ]
          },
          "metadata": {},
          "execution_count": 29
        }
      ]
    },
    {
      "cell_type": "code",
      "metadata": {
        "colab": {
          "base_uri": "https://localhost:8080/",
          "height": 204
        },
        "id": "qo3VrY02s7Na",
        "outputId": "e2678f63-28ee-4dd3-9c5f-a2b797ca2df8"
      },
      "source": [
        "df.head()"
      ],
      "execution_count": 30,
      "outputs": [
        {
          "output_type": "execute_result",
          "data": {
            "text/html": [
              "<div>\n",
              "<style scoped>\n",
              "    .dataframe tbody tr th:only-of-type {\n",
              "        vertical-align: middle;\n",
              "    }\n",
              "\n",
              "    .dataframe tbody tr th {\n",
              "        vertical-align: top;\n",
              "    }\n",
              "\n",
              "    .dataframe thead th {\n",
              "        text-align: right;\n",
              "    }\n",
              "</style>\n",
              "<table border=\"1\" class=\"dataframe\">\n",
              "  <thead>\n",
              "    <tr style=\"text-align: right;\">\n",
              "      <th></th>\n",
              "      <th>Unnamed: 0</th>\n",
              "      <th>측정일시</th>\n",
              "      <th>지점명</th>\n",
              "      <th>이산화질소농도(ppm)</th>\n",
              "      <th>오존농도(ppm)</th>\n",
              "      <th>이산화탄소농도(ppm)</th>\n",
              "      <th>아황산가스(ppm)</th>\n",
              "      <th>미세먼지</th>\n",
              "      <th>초미세먼지</th>\n",
              "      <th>년</th>\n",
              "      <th>월</th>\n",
              "      <th>미세먼지구간</th>\n",
              "      <th>초미세먼지구간</th>\n",
              "    </tr>\n",
              "  </thead>\n",
              "  <tbody>\n",
              "    <tr>\n",
              "      <th>0</th>\n",
              "      <td>0</td>\n",
              "      <td>2016-01-01</td>\n",
              "      <td>강동구</td>\n",
              "      <td>0.043</td>\n",
              "      <td>0.002</td>\n",
              "      <td>0.9</td>\n",
              "      <td>0.004</td>\n",
              "      <td>77.0</td>\n",
              "      <td>45.0</td>\n",
              "      <td>2016</td>\n",
              "      <td>1</td>\n",
              "      <td>2</td>\n",
              "      <td>2</td>\n",
              "    </tr>\n",
              "    <tr>\n",
              "      <th>1</th>\n",
              "      <td>1</td>\n",
              "      <td>2016-01-01</td>\n",
              "      <td>강서구</td>\n",
              "      <td>0.048</td>\n",
              "      <td>0.005</td>\n",
              "      <td>0.9</td>\n",
              "      <td>0.006</td>\n",
              "      <td>66.0</td>\n",
              "      <td>38.0</td>\n",
              "      <td>2016</td>\n",
              "      <td>1</td>\n",
              "      <td>2</td>\n",
              "      <td>2</td>\n",
              "    </tr>\n",
              "    <tr>\n",
              "      <th>2</th>\n",
              "      <td>2</td>\n",
              "      <td>2016-01-01</td>\n",
              "      <td>광진구</td>\n",
              "      <td>0.046</td>\n",
              "      <td>0.004</td>\n",
              "      <td>0.9</td>\n",
              "      <td>0.006</td>\n",
              "      <td>85.0</td>\n",
              "      <td>64.0</td>\n",
              "      <td>2016</td>\n",
              "      <td>1</td>\n",
              "      <td>3</td>\n",
              "      <td>3</td>\n",
              "    </tr>\n",
              "    <tr>\n",
              "      <th>3</th>\n",
              "      <td>3</td>\n",
              "      <td>2016-01-01</td>\n",
              "      <td>마포구</td>\n",
              "      <td>0.042</td>\n",
              "      <td>0.008</td>\n",
              "      <td>1.0</td>\n",
              "      <td>0.006</td>\n",
              "      <td>59.0</td>\n",
              "      <td>49.0</td>\n",
              "      <td>2016</td>\n",
              "      <td>1</td>\n",
              "      <td>2</td>\n",
              "      <td>2</td>\n",
              "    </tr>\n",
              "    <tr>\n",
              "      <th>4</th>\n",
              "      <td>4</td>\n",
              "      <td>2016-01-01</td>\n",
              "      <td>서초구</td>\n",
              "      <td>0.038</td>\n",
              "      <td>0.006</td>\n",
              "      <td>0.8</td>\n",
              "      <td>0.006</td>\n",
              "      <td>76.0</td>\n",
              "      <td>42.0</td>\n",
              "      <td>2016</td>\n",
              "      <td>1</td>\n",
              "      <td>2</td>\n",
              "      <td>2</td>\n",
              "    </tr>\n",
              "  </tbody>\n",
              "</table>\n",
              "</div>"
            ],
            "text/plain": [
              "   Unnamed: 0        측정일시  지점명  이산화질소농도(ppm)  ...     년  월  미세먼지구간  초미세먼지구간\n",
              "0           0  2016-01-01  강동구         0.043  ...  2016  1       2        2\n",
              "1           1  2016-01-01  강서구         0.048  ...  2016  1       2        2\n",
              "2           2  2016-01-01  광진구         0.046  ...  2016  1       3        3\n",
              "3           3  2016-01-01  마포구         0.042  ...  2016  1       2        2\n",
              "4           4  2016-01-01  서초구         0.038  ...  2016  1       2        2\n",
              "\n",
              "[5 rows x 13 columns]"
            ]
          },
          "metadata": {},
          "execution_count": 30
        }
      ]
    },
    {
      "cell_type": "code",
      "metadata": {
        "colab": {
          "base_uri": "https://localhost:8080/"
        },
        "id": "Shv30ypUYGav",
        "outputId": "731a42b6-bf2f-4607-8300-9c368757f24a"
      },
      "source": [
        "df.columns"
      ],
      "execution_count": 67,
      "outputs": [
        {
          "output_type": "execute_result",
          "data": {
            "text/plain": [
              "Index(['Unnamed: 0', '측정일시', '지점명', '이산화질소농도(ppm)', '오존농도(ppm)',\n",
              "       '이산화탄소농도(ppm)', '아황산가스(ppm)', '미세먼지', '초미세먼지', '년', '월', '미세먼지구간',\n",
              "       '초미세먼지구간', '일', '시간'],\n",
              "      dtype='object')"
            ]
          },
          "metadata": {},
          "execution_count": 67
        }
      ]
    },
    {
      "cell_type": "code",
      "metadata": {
        "id": "QIOcUNXpudYK"
      },
      "source": [
        "weather = df1[['측정일시', '지점명', '평균기온(°C)', '일강수량(mm)', '평균 풍속(m/s)']]"
      ],
      "execution_count": 66,
      "outputs": []
    },
    {
      "cell_type": "code",
      "metadata": {
        "id": "VjEmnpcGu0p5"
      },
      "source": [
        "pollution = df[['측정일시', '지점명','미세먼지구간','초미세먼지구간' ]]"
      ],
      "execution_count": 68,
      "outputs": []
    },
    {
      "cell_type": "code",
      "metadata": {
        "colab": {
          "base_uri": "https://localhost:8080/"
        },
        "id": "r_ya-rC_Xg6V",
        "outputId": "6770c360-0720-41cf-9d16-02c5b85fdd27"
      },
      "source": [
        "merge_inner = pd.merge(weather,pollution, how='inner',on=['측정일시','지점명'])\n",
        "merge_inner.isnull().sum()"
      ],
      "execution_count": 75,
      "outputs": [
        {
          "output_type": "execute_result",
          "data": {
            "text/plain": [
              "시간              0\n",
              "지점명             0\n",
              "평균기온(°C)      150\n",
              "일강수량(mm)        7\n",
              "평균 풍속(m/s)    134\n",
              "미세먼지구간          0\n",
              "초미세먼지구간         0\n",
              "dtype: int64"
            ]
          },
          "metadata": {},
          "execution_count": 75
        }
      ]
    },
    {
      "cell_type": "code",
      "metadata": {
        "id": "bHKTnsXcvbSC"
      },
      "source": [
        "merge_inner.to_csv('input_dataset.csv', encoding='utf-8-sig')"
      ],
      "execution_count": 74,
      "outputs": []
    },
    {
      "cell_type": "code",
      "metadata": {
        "id": "_IIGry0jwF1q"
      },
      "source": [
        ""
      ],
      "execution_count": null,
      "outputs": []
    }
  ]
}