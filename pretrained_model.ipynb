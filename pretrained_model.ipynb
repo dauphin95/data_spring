{
  "nbformat": 4,
  "nbformat_minor": 0,
  "metadata": {
    "colab": {
      "name": "pretrained model.ipynb",
      "provenance": [],
      "authorship_tag": "ABX9TyNeH1sqrVzz304PkQ/vAxpq",
      "include_colab_link": true
    },
    "kernelspec": {
      "name": "python3",
      "display_name": "Python 3"
    },
    "language_info": {
      "name": "python"
    },
    "accelerator": "GPU"
  },
  "cells": [
    {
      "cell_type": "markdown",
      "metadata": {
        "id": "view-in-github",
        "colab_type": "text"
      },
      "source": [
        "<a href=\"https://colab.research.google.com/github/dauphin95/data_spring/blob/master/pretrained_model.ipynb\" target=\"_parent\"><img src=\"https://colab.research.google.com/assets/colab-badge.svg\" alt=\"Open In Colab\"/></a>"
      ]
    },
    {
      "cell_type": "code",
      "metadata": {
        "colab": {
          "base_uri": "https://localhost:8080/"
        },
        "id": "hXumYQHSLLVM",
        "outputId": "e07fc6b3-0d30-4719-f1b7-2d5eeece9bdd"
      },
      "source": [
        "!ls -l\n",
        "## 파일들을 보여주세욤"
      ],
      "execution_count": 41,
      "outputs": [
        {
          "output_type": "stream",
          "name": "stdout",
          "text": [
            "total 7380\n",
            "-rw-r--r-- 1 root root 7529200 Oct 13 01:04 converted_savedmodel.zip\n",
            "drwxr-xr-x 2 root root    4096 Oct 13 01:11 cup\n",
            "drwxr-xr-x 2 root root    4096 Oct 13 01:19 eraser\n",
            "-rw-r--r-- 1 root root      24 Oct 13 01:14 labels.txt\n",
            "drwxr-xr-x 4 root root    4096 Oct 13 00:51 model.savedmodel\n",
            "drwxr-xr-x 2 root root    4096 Oct 13 01:19 remote\n",
            "drwxr-xr-x 1 root root    4096 Oct  8 13:45 sample_data\n"
          ]
        }
      ]
    },
    {
      "cell_type": "code",
      "metadata": {
        "id": "NxjLKn20LmS6"
      },
      "source": [
        "!mkdir cup   \n",
        "!mkdir eraser\n",
        "!mkdir remote\n",
        "## 파일만들기"
      ],
      "execution_count": 2,
      "outputs": []
    },
    {
      "cell_type": "code",
      "metadata": {
        "colab": {
          "base_uri": "https://localhost:8080/"
        },
        "id": "32nABIw9L7Zz",
        "outputId": "b4e07d58-d05f-4fdf-a8fa-c30914f0a13e"
      },
      "source": [
        "!unzip converted_savedmodel.zip"
      ],
      "execution_count": 4,
      "outputs": [
        {
          "output_type": "stream",
          "name": "stdout",
          "text": [
            "Archive:  converted_savedmodel.zip\n",
            "   creating: model.savedmodel/\n",
            " extracting: model.savedmodel/saved_model.pb  \n",
            "   creating: model.savedmodel/assets/\n",
            "   creating: model.savedmodel/variables/\n",
            " extracting: model.savedmodel/variables/variables.index  \n",
            " extracting: model.savedmodel/variables/variables.data-00000-of-00001  \n",
            " extracting: labels.txt              \n"
          ]
        }
      ]
    },
    {
      "cell_type": "code",
      "metadata": {
        "id": "9Hco4H_xMvH4"
      },
      "source": [
        "## !rm *.jpg -> 지우기"
      ],
      "execution_count": null,
      "outputs": []
    },
    {
      "cell_type": "code",
      "metadata": {
        "colab": {
          "base_uri": "https://localhost:8080/"
        },
        "id": "WkgQY8kwM2Jt",
        "outputId": "9d3432ec-0f46-44fc-c471-44377dfac83c"
      },
      "source": [
        "%cd /content "
      ],
      "execution_count": 38,
      "outputs": [
        {
          "output_type": "stream",
          "name": "stdout",
          "text": [
            "/content\n"
          ]
        }
      ]
    },
    {
      "cell_type": "code",
      "metadata": {
        "colab": {
          "base_uri": "https://localhost:8080/"
        },
        "id": "BofBiMH2NVS4",
        "outputId": "d87b5665-2093-4e68-812d-fa8a897527fc"
      },
      "source": [
        "%cd remote/ "
      ],
      "execution_count": 31,
      "outputs": [
        {
          "output_type": "stream",
          "name": "stdout",
          "text": [
            "/content/remote\n"
          ]
        }
      ]
    },
    {
      "cell_type": "code",
      "metadata": {
        "id": "Y28U9Ne3Ma8B"
      },
      "source": [
        "!unzip ./*.zip  "
      ],
      "execution_count": null,
      "outputs": []
    },
    {
      "cell_type": "code",
      "metadata": {
        "colab": {
          "base_uri": "https://localhost:8080/"
        },
        "id": "zYSRrBckNsek",
        "outputId": "c121bf0a-e67d-4c36-9323-2608e62904b7"
      },
      "source": [
        "from keras.models import load_model\n",
        "from PIL import Image, ImageOps\n",
        "import numpy as np\n",
        "\n",
        "# Load the model\n",
        "model = load_model('model.savedmodel')"
      ],
      "execution_count": 39,
      "outputs": [
        {
          "output_type": "stream",
          "name": "stdout",
          "text": [
            "WARNING:tensorflow:SavedModel saved prior to TF 2.5 detected when loading Keras model. Please ensure that you are saving the model with model.save() or tf.keras.models.save_model(), *NOT* tf.saved_model.save(). To confirm, there should be a file named \"keras_metadata.pb\" in the SavedModel directory.\n",
            "WARNING:tensorflow:No training configuration found in save file, so the model was *not* compiled. Compile it manually.\n"
          ]
        }
      ]
    },
    {
      "cell_type": "code",
      "metadata": {
        "colab": {
          "base_uri": "https://localhost:8080/"
        },
        "id": "_h80HVWEI282",
        "outputId": "ae1e4f79-0ba1-461f-eb5c-7b55788660ac"
      },
      "source": [
        "\n",
        "# Create the array of the right shape to feed into the keras model\n",
        "# The 'length' or number of images you can put into the array is\n",
        "# determined by the first position in the shape tuple, in this case 1.\n",
        "data = np.ndarray(shape=(1, 224, 224, 3), dtype=np.float32)\n",
        "# Replace this with the path to your image\n",
        "image = Image.open('/content/eraser/144.jpg')\n",
        "#resize the image to a 224x224 with the same strategy as in TM2:\n",
        "#resizing the image to be at least 224x224 and then cropping from the center\n",
        "size = (224, 224)\n",
        "image = ImageOps.fit(image, size, Image.ANTIALIAS)\n",
        "\n",
        "#turn the image into a numpy array\n",
        "image_array = np.asarray(image)\n",
        "# Normalize the image\n",
        "normalized_image_array = (image_array.astype(np.float32) / 127.0) - 1\n",
        "# Load the image into the array\n",
        "data[0] = normalized_image_array\n",
        "\n",
        "# run the inference\n",
        "prediction = model.predict(data)\n",
        "print(prediction)\n"
      ],
      "execution_count": 40,
      "outputs": [
        {
          "output_type": "stream",
          "name": "stdout",
          "text": [
            "[[1.5610788e-04 9.9974531e-01 9.8600438e-05]]\n"
          ]
        }
      ]
    }
  ]
}