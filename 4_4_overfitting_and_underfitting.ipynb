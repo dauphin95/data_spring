{
  "nbformat": 4,
  "nbformat_minor": 0,
  "metadata": {
    "kernelspec": {
      "display_name": "Python 3",
      "language": "python",
      "name": "python3"
    },
    "language_info": {
      "codemirror_mode": {
        "name": "ipython",
        "version": 3
      },
      "file_extension": ".py",
      "mimetype": "text/x-python",
      "name": "python",
      "nbconvert_exporter": "python",
      "pygments_lexer": "ipython3",
      "version": "3.6.6"
    },
    "colab": {
      "name": "4.4-overfitting-and-underfitting.ipynb",
      "provenance": [],
      "include_colab_link": true
    }
  },
  "cells": [
    {
      "cell_type": "markdown",
      "metadata": {
        "id": "view-in-github",
        "colab_type": "text"
      },
      "source": [
        "<a href=\"https://colab.research.google.com/github/dauphin95/data_spring/blob/master/4_4_overfitting_and_underfitting.ipynb\" target=\"_parent\"><img src=\"https://colab.research.google.com/assets/colab-badge.svg\" alt=\"Open In Colab\"/></a>"
      ]
    },
    {
      "cell_type": "code",
      "metadata": {
        "colab": {
          "base_uri": "https://localhost:8080/",
          "height": 35
        },
        "id": "cYhhuDIMLZve",
        "outputId": "edc860d9-069b-434f-ec49-60939f9364ad"
      },
      "source": [
        "import keras\n",
        "keras.__version__"
      ],
      "execution_count": 1,
      "outputs": [
        {
          "output_type": "execute_result",
          "data": {
            "application/vnd.google.colaboratory.intrinsic+json": {
              "type": "string"
            },
            "text/plain": [
              "'2.6.0'"
            ]
          },
          "metadata": {},
          "execution_count": 1
        }
      ]
    },
    {
      "cell_type": "markdown",
      "metadata": {
        "id": "YJqIWezlLZvj"
      },
      "source": [
        "# 과대적합과 과소적합\n",
        "\n",
        "이 노트북은 [케라스 창시자에게 배우는 딥러닝](https://tensorflow.blog/케라스-창시자에게-배우는-딥러닝/) 책의 4장 4절의 코드 예제입니다. 책에는 더 많은 내용과 그림이 있습니다. 이 노트북에는 소스 코드에 관련된 설명만 포함합니다. 이 노트북의 설명은 케라스 버전 2.2.2에 맞추어져 있습니다. 케라스 최신 버전이 릴리스되면 노트북을 다시 테스트하기 때문에 설명과 코드의 결과가 조금 다를 수 있습니다.\n",
        "\n",
        "----\n",
        "\n",
        "이전 장에 있던 세 가지 예제인 영화 리뷰 예측, 토픽 분류, 주택 가격 회귀 모두 홀드아웃 데이터에서 모델의 성능이 몇 번의 에포크 후에 최고치에 다다랐다가 감소되기 시작했습니다. 즉, 모델이 금방 훈련 데이터에 과대적합되기 시작합니다. 과대적합은 모든 머신 러닝 문제에서 발생합니다. 머신 러닝을 마스터하려면 과대적합을 다루는 방법을 꼭 배워야 합니다.\n",
        "\n",
        "머신 러닝의 근본적인 이슈는 최적화와 일반화 사이의 줄다리기입니다. 최적화는 가능한 훈련 데이터에서 최고의 성능을 얻으려고 모델을 조정하는 과정입니다(머신 러닝의 학습). 반면 일반화는 훈련된 모델이 이전에 본 적 없는 데이터에서 얼마나 잘 수행되는지를 의미합니다. 물론 모델을 만드는 목적은 좋은 일반화 성능을 얻는 것입니다. 하지만 일반화 성능을 제어할 방법이 없습니다. 단지 훈련 데이터를 기반으로 모델을 조정할 수만 있습니다.\n",
        "\n",
        "훈련 초기에 최적화와 일반화는 상호 연관되어 있습니다. 훈련 데이터의 손실이 낮을수록 테스트 데이터의 손실이 낮습니다. 이런 상황이 발생할 때 모델이 과소적합되었다고 말합니다. 모델의 성능이 계속 발전될 여지가 있습니다. 즉, 네트워크가 훈련 데이터에 있는 관련 특성을 모두 학습하지 못했습니다. 하지만 훈련 데이터에 여러 번 반복 학습하고 나면 어느 시점부터 일반화 성능이 더이상 높아지지 않습니다. 검증 세트의 성능이 멈추고 감소되기 시작합니다. 즉, 모델이 과대적합되기 시작합니다. 이는 훈련 데이터에 특화된 패턴을 학습하기 시작했다는 의미입니다. 이 패턴은 새로운 데이터와 관련성이 적어 잘못된 판단을 하게 만듭니다.\n",
        "\n",
        "모델이 관련성이 없고 좋지 못한 패턴을 훈련 데이터에서 학습하지 못하도록 하려면 가장 좋은 방법은 더 많은 훈련 데이터를 모으는 것입니다. 더 많은 데이터에서 훈련된 모델은 자연히 일반화 성능이 더 뛰어 납니다. 데이터를 더 모으는 것이 불가능할 때 차선책은 모델이 수용할 수 있는 정보의 양을 조절하거나 저장할 수 있는 정보에 제약을 가하는 것입니다. 네트워크가 적은 수의 패턴만을 기억할 수 있다면 최적화 과정에서 가장 중요한 패턴에 집중하게 될 것입니다. 이런 패턴은 더 나은 일반화 성능을 제공할 수 있습니다.\n",
        "\n",
        "이런 식으로 과대적합을 피하는 처리 과정을 규제라고 합니다. 가장 널리 사용되는 규제 기법을 알아보고 이전 장에서 본 영화 리뷰 분류 모델에 실제로 적용해 성능을 향상시켜 보겠습니다."
      ]
    },
    {
      "cell_type": "markdown",
      "metadata": {
        "id": "6tIlumYLLZvl"
      },
      "source": [
        "노트: 이 노트북에서는 편의상 IMDB 테스트 세트를 검증 세트로 사용합니다.\n",
        "\n",
        "3장 5절에 있는 코드를 사용해 데이터를 준비합니다:"
      ]
    },
    {
      "cell_type": "code",
      "metadata": {
        "id": "U5jXfRunLZvm"
      },
      "source": [
        "from keras.datasets import imdb\n",
        "import numpy as np\n",
        "\n",
        "(train_data, train_labels), (test_data, test_labels) = imdb.load_data(num_words=10000)\n",
        "\n",
        "def vectorize_sequences(sequences, dimension=10000):\n",
        "    # 크기가 (len(sequences), dimension))이고 모든 원소가 0인 행렬을 만듭니다\n",
        "    results = np.zeros((len(sequences), dimension))\n",
        "    for i, sequence in enumerate(sequences):\n",
        "        results[i, sequence] = 1.  # results[i]에서 특정 인덱스의 위치를 1로 만듭니다\n",
        "    return results\n",
        "\n",
        "# 훈련 데이터를 벡터로 변환합니다\n",
        "x_train = vectorize_sequences(train_data)\n",
        "# 테스트 데이터를 벡터로 변환합니다\n",
        "x_test = vectorize_sequences(test_data)\n",
        "# 레이블을 벡터로 변환합니다\n",
        "y_train = np.asarray(train_labels).astype('float32')\n",
        "y_test = np.asarray(test_labels).astype('float32')"
      ],
      "execution_count": 2,
      "outputs": []
    },
    {
      "cell_type": "markdown",
      "metadata": {
        "id": "DzokHzZVLZvm"
      },
      "source": [
        "# 과대적합\n",
        "\n",
        "## 네트워크 크기 축소\n",
        "\n",
        "과대적합을 막는 가장 단순한 방법은 모델의 크기, 즉 모델에 있는 학습 파라미터의 수를 줄이는 것입니다. 파라미터의 수는 층의 수와 각 층의 유닛 수에 의해 결정됩니다. 딥러닝에서 모델에 있는 학습 파라미터의 수를 종종 모델의 용량이라고 말합니다. 당연하게 파라미터가 많은 모델이 기억 용량이 더 많습니다. 훈련 샘플과 타깃 사이를 딕셔너리와 같은 1:1 매핑으로 완벽하게 학습할 수도 있습니다. 이런 매핑은 일반화 능력이 없습니다. 예를 들어 500,000개의 이진 파라미터가 있는 모델은 MNIST 훈련 세트의 숫자 이미지의 클래스를 쉽게 모두 학습할 수 있습니다. 50,000개의 숫자 이미지 하나마다 10개의 이진 파라미터만 있으면 됩니다. 하지만 이런 모델은 새로운 숫자 샘플을 분류하는 용도로는 쓸모가 없습니다. 항상 유념해야 할 것은 딥러닝 모델은 훈련 데이터에 잘 맞으려는 경향을 가진다는 점입니다. 하지만 진짜 문제는 최적화가 아니고 일반화입니다.\n",
        "\n",
        "다른 한편으로 네트워크가 기억 용량에 제한이 있다면 이런 매핑을 쉽게 학습하지 못할 것입니다. 따라서 손실을 최소화하기 위해 타깃에 대한 예측 성능을 가진 압축된 표현을 학습해야 합니다. 정확히 이런 표현이 우리의 관심 대상입니다. 동시에 기억해야할 것은 과소적합되지 않도록 충분한 파라미터를 가진 모델을 사용해야 한다는 점입니다. 모델의 기억 용량이 부족해서는 안 됩니다. 너무 많은 용량과 충분하지 않은 용량 사이의 절충점을 찾아야 합니다.\n",
        "\n",
        "안타깝지만 알맞은 층의 수나 각 층의 유닛 수를 결정할 수 있는 마법 같은 공식은 없습니다. 데이터에 알맞는 모델 크기를 찾으려면 각기 다른 구조를 (당연히 테스트 세트가 아니고 검증 세트에서) 평가해 보아야 합니다. 적절한 모델 크기를 찾는 일반적인 작업 흐름은 비교적 적은 수의 층과 파라미터로 시작합니다. 그다음 검증 손실이 감소되기 시작할 때까지 층이나 유닛의 수를 늘리는 것입니다.\n",
        "\n",
        "영화 리뷰 분류 모델에 적용해 보죠. 원래 네트워크는 다음과 같습니다:"
      ]
    },
    {
      "cell_type": "code",
      "metadata": {
        "id": "UoAVZvxNLZvn"
      },
      "source": [
        "from keras import models\n",
        "from keras import layers\n",
        "\n",
        "original_model = models.Sequential()\n",
        "original_model.add(layers.Dense(16, activation='relu', input_shape=(10000,)))\n",
        "original_model.add(layers.Dense(16, activation='relu'))\n",
        "original_model.add(layers.Dense(1, activation='sigmoid'))\n",
        "\n",
        "original_model.compile(optimizer='rmsprop',\n",
        "                       loss='binary_crossentropy',\n",
        "                       metrics=['acc'])"
      ],
      "execution_count": 3,
      "outputs": []
    },
    {
      "cell_type": "markdown",
      "metadata": {
        "id": "d2z7fN7MLZvo"
      },
      "source": [
        "더 작은 네트워크로 바꾸어 보죠:"
      ]
    },
    {
      "cell_type": "code",
      "metadata": {
        "id": "3l350fN9LZvp"
      },
      "source": [
        "smaller_model = models.Sequential()\n",
        "smaller_model.add(layers.Dense(6, activation='relu', input_shape=(10000,)))\n",
        "smaller_model.add(layers.Dense(6, activation='relu'))\n",
        "smaller_model.add(layers.Dense(1, activation='sigmoid'))\n",
        "\n",
        "smaller_model.compile(optimizer='rmsprop',\n",
        "                      loss='binary_crossentropy',\n",
        "                      metrics=['acc'])"
      ],
      "execution_count": 4,
      "outputs": []
    },
    {
      "cell_type": "markdown",
      "metadata": {
        "id": "HmnJ-J0BLZvp"
      },
      "source": [
        "원본 네트워크와 축소된 네트워크의 검증 손실을 비교해 보죠. 점으로 표현된 것이 작은 네트워크이고 덧셈 기호가 원래 네트워크 입니다(검증 손실이 작은 것이 좋은 모델입니다)."
      ]
    },
    {
      "cell_type": "code",
      "metadata": {
        "colab": {
          "base_uri": "https://localhost:8080/"
        },
        "id": "RXAn6HVkLZvq",
        "outputId": "dd49985f-a237-4894-f7b6-1ac81d43d340"
      },
      "source": [
        "original_hist = original_model.fit(x_train, y_train,\n",
        "                                   epochs=20,\n",
        "                                   batch_size=512,\n",
        "                                   validation_data=(x_test, y_test))"
      ],
      "execution_count": 5,
      "outputs": [
        {
          "output_type": "stream",
          "name": "stdout",
          "text": [
            "Epoch 1/20\n",
            "49/49 [==============================] - 5s 73ms/step - loss: 0.4474 - acc: 0.8226 - val_loss: 0.3317 - val_acc: 0.8768\n",
            "Epoch 2/20\n",
            "49/49 [==============================] - 2s 50ms/step - loss: 0.2529 - acc: 0.9105 - val_loss: 0.2834 - val_acc: 0.8892\n",
            "Epoch 3/20\n",
            "49/49 [==============================] - 2s 49ms/step - loss: 0.1942 - acc: 0.9312 - val_loss: 0.2956 - val_acc: 0.8822\n",
            "Epoch 4/20\n",
            "49/49 [==============================] - 2s 49ms/step - loss: 0.1601 - acc: 0.9446 - val_loss: 0.3236 - val_acc: 0.8746\n",
            "Epoch 5/20\n",
            "49/49 [==============================] - 2s 49ms/step - loss: 0.1395 - acc: 0.9518 - val_loss: 0.3264 - val_acc: 0.8762\n",
            "Epoch 6/20\n",
            "49/49 [==============================] - 2s 49ms/step - loss: 0.1220 - acc: 0.9567 - val_loss: 0.3414 - val_acc: 0.8734\n",
            "Epoch 7/20\n",
            "49/49 [==============================] - 2s 49ms/step - loss: 0.1036 - acc: 0.9648 - val_loss: 0.3752 - val_acc: 0.8700\n",
            "Epoch 8/20\n",
            "49/49 [==============================] - 2s 49ms/step - loss: 0.0890 - acc: 0.9706 - val_loss: 0.4197 - val_acc: 0.8623\n",
            "Epoch 9/20\n",
            "49/49 [==============================] - 2s 49ms/step - loss: 0.0811 - acc: 0.9732 - val_loss: 0.4230 - val_acc: 0.8670\n",
            "Epoch 10/20\n",
            "49/49 [==============================] - 2s 50ms/step - loss: 0.0681 - acc: 0.9785 - val_loss: 0.4530 - val_acc: 0.8641\n",
            "Epoch 11/20\n",
            "49/49 [==============================] - 2s 49ms/step - loss: 0.0598 - acc: 0.9807 - val_loss: 0.4952 - val_acc: 0.8612\n",
            "Epoch 12/20\n",
            "49/49 [==============================] - 2s 48ms/step - loss: 0.0473 - acc: 0.9859 - val_loss: 0.5317 - val_acc: 0.8575\n",
            "Epoch 13/20\n",
            "49/49 [==============================] - 2s 49ms/step - loss: 0.0439 - acc: 0.9868 - val_loss: 0.5498 - val_acc: 0.8586\n",
            "Epoch 14/20\n",
            "49/49 [==============================] - 2s 49ms/step - loss: 0.0325 - acc: 0.9916 - val_loss: 0.6078 - val_acc: 0.8533\n",
            "Epoch 15/20\n",
            "49/49 [==============================] - 2s 49ms/step - loss: 0.0302 - acc: 0.9917 - val_loss: 0.6323 - val_acc: 0.8559\n",
            "Epoch 16/20\n",
            "49/49 [==============================] - 2s 48ms/step - loss: 0.0210 - acc: 0.9944 - val_loss: 0.6669 - val_acc: 0.8546\n",
            "Epoch 17/20\n",
            "49/49 [==============================] - 2s 49ms/step - loss: 0.0199 - acc: 0.9956 - val_loss: 0.7093 - val_acc: 0.8535\n",
            "Epoch 18/20\n",
            "49/49 [==============================] - 2s 50ms/step - loss: 0.0123 - acc: 0.9978 - val_loss: 0.7701 - val_acc: 0.8514\n",
            "Epoch 19/20\n",
            "49/49 [==============================] - 2s 50ms/step - loss: 0.0121 - acc: 0.9972 - val_loss: 0.8386 - val_acc: 0.8482\n",
            "Epoch 20/20\n",
            "49/49 [==============================] - 2s 50ms/step - loss: 0.0110 - acc: 0.9973 - val_loss: 0.8414 - val_acc: 0.8522\n"
          ]
        }
      ]
    },
    {
      "cell_type": "code",
      "metadata": {
        "colab": {
          "base_uri": "https://localhost:8080/"
        },
        "id": "A1OVQE8fLZvq",
        "outputId": "c7e2e50c-fc39-4d28-965f-a665907e78cb"
      },
      "source": [
        "smaller_model_hist = smaller_model.fit(x_train, y_train,\n",
        "                                       epochs=20,\n",
        "                                       batch_size=512,\n",
        "                                       validation_data=(x_test, y_test))"
      ],
      "execution_count": 6,
      "outputs": [
        {
          "output_type": "stream",
          "name": "stdout",
          "text": [
            "Epoch 1/20\n",
            "49/49 [==============================] - 3s 59ms/step - loss: 0.5600 - acc: 0.7589 - val_loss: 0.4769 - val_acc: 0.8642\n",
            "Epoch 2/20\n",
            "49/49 [==============================] - 2s 46ms/step - loss: 0.3835 - acc: 0.8886 - val_loss: 0.3588 - val_acc: 0.8800\n",
            "Epoch 3/20\n",
            "49/49 [==============================] - 2s 46ms/step - loss: 0.2774 - acc: 0.9133 - val_loss: 0.3054 - val_acc: 0.8868\n",
            "Epoch 4/20\n",
            "49/49 [==============================] - 2s 46ms/step - loss: 0.2192 - acc: 0.9275 - val_loss: 0.2867 - val_acc: 0.8872\n",
            "Epoch 5/20\n",
            "49/49 [==============================] - 2s 45ms/step - loss: 0.1845 - acc: 0.9379 - val_loss: 0.2962 - val_acc: 0.8823\n",
            "Epoch 6/20\n",
            "49/49 [==============================] - 2s 46ms/step - loss: 0.1597 - acc: 0.9475 - val_loss: 0.2861 - val_acc: 0.8868\n",
            "Epoch 7/20\n",
            "49/49 [==============================] - 2s 45ms/step - loss: 0.1408 - acc: 0.9553 - val_loss: 0.2997 - val_acc: 0.8807\n",
            "Epoch 8/20\n",
            "49/49 [==============================] - 2s 47ms/step - loss: 0.1245 - acc: 0.9610 - val_loss: 0.3105 - val_acc: 0.8799\n",
            "Epoch 9/20\n",
            "49/49 [==============================] - 2s 45ms/step - loss: 0.1095 - acc: 0.9659 - val_loss: 0.3264 - val_acc: 0.8766\n",
            "Epoch 10/20\n",
            "49/49 [==============================] - 2s 46ms/step - loss: 0.0977 - acc: 0.9705 - val_loss: 0.3475 - val_acc: 0.8730\n",
            "Epoch 11/20\n",
            "49/49 [==============================] - 2s 45ms/step - loss: 0.0853 - acc: 0.9757 - val_loss: 0.3590 - val_acc: 0.8734\n",
            "Epoch 12/20\n",
            "49/49 [==============================] - 2s 46ms/step - loss: 0.0746 - acc: 0.9794 - val_loss: 0.3767 - val_acc: 0.8707\n",
            "Epoch 13/20\n",
            "49/49 [==============================] - 2s 45ms/step - loss: 0.0647 - acc: 0.9832 - val_loss: 0.3988 - val_acc: 0.8680\n",
            "Epoch 14/20\n",
            "49/49 [==============================] - 2s 45ms/step - loss: 0.0567 - acc: 0.9848 - val_loss: 0.4272 - val_acc: 0.8648\n",
            "Epoch 15/20\n",
            "49/49 [==============================] - 2s 45ms/step - loss: 0.0486 - acc: 0.9881 - val_loss: 0.4463 - val_acc: 0.8667\n",
            "Epoch 16/20\n",
            "49/49 [==============================] - 2s 45ms/step - loss: 0.0418 - acc: 0.9902 - val_loss: 0.4709 - val_acc: 0.8647\n",
            "Epoch 17/20\n",
            "49/49 [==============================] - 2s 45ms/step - loss: 0.0356 - acc: 0.9923 - val_loss: 0.4977 - val_acc: 0.8645\n",
            "Epoch 18/20\n",
            "49/49 [==============================] - 2s 45ms/step - loss: 0.0298 - acc: 0.9933 - val_loss: 0.5285 - val_acc: 0.8600\n",
            "Epoch 19/20\n",
            "49/49 [==============================] - 2s 45ms/step - loss: 0.0249 - acc: 0.9952 - val_loss: 0.5550 - val_acc: 0.8598\n",
            "Epoch 20/20\n",
            "49/49 [==============================] - 2s 45ms/step - loss: 0.0201 - acc: 0.9966 - val_loss: 0.5888 - val_acc: 0.8585\n"
          ]
        }
      ]
    },
    {
      "cell_type": "code",
      "metadata": {
        "id": "aJOuqPhJLZvr"
      },
      "source": [
        "epochs = range(1, 21)\n",
        "original_val_loss = original_hist.history['val_loss']\n",
        "smaller_model_val_loss = smaller_model_hist.history['val_loss']"
      ],
      "execution_count": 7,
      "outputs": []
    },
    {
      "cell_type": "code",
      "metadata": {
        "id": "NyrSTtJuLZvr"
      },
      "source": [
        "import matplotlib.pyplot as plt"
      ],
      "execution_count": 8,
      "outputs": []
    },
    {
      "cell_type": "code",
      "metadata": {
        "scrolled": true,
        "colab": {
          "base_uri": "https://localhost:8080/",
          "height": 279
        },
        "id": "hz0Q1a4LLZvr",
        "outputId": "efa44733-9209-4d48-e95c-f8255502b27f"
      },
      "source": [
        "# ‘b+’는 파란색 덧셈 기호을 의미합니다\n",
        "plt.plot(epochs, original_val_loss, 'b+', label='Original model')\n",
        "# ‘bo’는 파란색 점을 의미합니다\n",
        "plt.plot(epochs, smaller_model_val_loss, 'bo', label='Smaller model')\n",
        "plt.xlabel('Epochs')\n",
        "plt.ylabel('Validation loss')\n",
        "plt.legend()\n",
        "\n",
        "plt.show()"
      ],
      "execution_count": 9,
      "outputs": [
        {
          "output_type": "display_data",
          "data": {
            "image/png": "[encoded data removed]",
            "text/plain": [
              "<Figure size 432x288 with 1 Axes>"
            ]
          },
          "metadata": {
            "needs_background": "light"
          }
        }
      ]
    },
    {
      "cell_type": "markdown",
      "metadata": {
        "id": "6g_mWem6LZvs"
      },
      "source": [
        "여기서 볼 수 있듯이 작은 네트워크가 기본 네트워크보다 더 나중에 과대적합되기 시작했습니다(네 번째 에포크가 아니라 여섯 번째 에포크에서). 과대적합이 시작되었을 때 성능이 더 천천히 감소되었습니다.\n",
        "\n",
        "이번에는 문제에 필요한 것보다 훨씬 더 많은 용량을 가진 네트워크를 비교해 보겠습니다:"
      ]
    },
    {
      "cell_type": "code",
      "metadata": {
        "id": "iHGkP2kTLZvs"
      },
      "source": [
        "bigger_model = models.Sequential()\n",
        "bigger_model.add(layers.Dense(1024, activation='relu', input_shape=(10000,)))\n",
        "bigger_model.add(layers.Dense(1024, activation='relu'))\n",
        "bigger_model.add(layers.Dense(1, activation='sigmoid'))\n",
        "\n",
        "bigger_model.compile(optimizer='rmsprop',\n",
        "                     loss='binary_crossentropy',\n",
        "                     metrics=['acc'])"
      ],
      "execution_count": 10,
      "outputs": []
    },
    {
      "cell_type": "code",
      "metadata": {
        "colab": {
          "base_uri": "https://localhost:8080/"
        },
        "id": "g6d0pUxNLZvs",
        "outputId": "1390d135-d94a-465e-80a9-59e84897f85e"
      },
      "source": [
        "bigger_model_hist = bigger_model.fit(x_train, y_train,\n",
        "                                     epochs=20,\n",
        "                                     batch_size=512,\n",
        "                                     validation_data=(x_test, y_test))"
      ],
      "execution_count": 11,
      "outputs": [
        {
          "output_type": "stream",
          "name": "stdout",
          "text": [
            "Epoch 1/20\n",
            "49/49 [==============================] - 38s 763ms/step - loss: 0.5453 - acc: 0.7886 - val_loss: 0.2785 - val_acc: 0.8864\n",
            "Epoch 2/20\n",
            "49/49 [==============================] - 36s 730ms/step - loss: 0.2175 - acc: 0.9136 - val_loss: 0.2742 - val_acc: 0.8893\n",
            "Epoch 3/20\n",
            "49/49 [==============================] - 35s 714ms/step - loss: 0.1197 - acc: 0.9572 - val_loss: 0.4670 - val_acc: 0.8482\n",
            "Epoch 4/20\n",
            "49/49 [==============================] - 35s 718ms/step - loss: 0.0713 - acc: 0.9826 - val_loss: 0.4578 - val_acc: 0.8798\n",
            "Epoch 5/20\n",
            "49/49 [==============================] - 35s 722ms/step - loss: 0.1203 - acc: 0.9854 - val_loss: 0.4880 - val_acc: 0.8671\n",
            "Epoch 6/20\n",
            "49/49 [==============================] - 35s 717ms/step - loss: 0.0013 - acc: 1.0000 - val_loss: 0.6343 - val_acc: 0.8836\n",
            "Epoch 7/20\n",
            "49/49 [==============================] - 35s 722ms/step - loss: 0.1294 - acc: 0.9868 - val_loss: 0.4839 - val_acc: 0.8812\n",
            "Epoch 8/20\n",
            "49/49 [==============================] - 35s 723ms/step - loss: 2.7563e-04 - acc: 1.0000 - val_loss: 0.6789 - val_acc: 0.8835\n",
            "Epoch 9/20\n",
            "49/49 [==============================] - 35s 723ms/step - loss: 2.6556e-05 - acc: 1.0000 - val_loss: 0.8141 - val_acc: 0.8834\n",
            "Epoch 10/20\n",
            "49/49 [==============================] - 35s 714ms/step - loss: 3.6166e-06 - acc: 1.0000 - val_loss: 0.9416 - val_acc: 0.8828\n",
            "Epoch 11/20\n",
            "49/49 [==============================] - 35s 714ms/step - loss: 5.3059e-07 - acc: 1.0000 - val_loss: 1.0841 - val_acc: 0.8842\n",
            "Epoch 12/20\n",
            "49/49 [==============================] - 35s 713ms/step - loss: 9.7098e-08 - acc: 1.0000 - val_loss: 1.1950 - val_acc: 0.8840\n",
            "Epoch 13/20\n",
            "49/49 [==============================] - 35s 716ms/step - loss: 2.8673e-08 - acc: 1.0000 - val_loss: 1.2685 - val_acc: 0.8842\n",
            "Epoch 14/20\n",
            "49/49 [==============================] - 35s 710ms/step - loss: 1.4034e-08 - acc: 1.0000 - val_loss: 1.3083 - val_acc: 0.8844\n",
            "Epoch 15/20\n",
            "49/49 [==============================] - 34s 703ms/step - loss: 9.2239e-09 - acc: 1.0000 - val_loss: 1.3337 - val_acc: 0.8843\n",
            "Epoch 16/20\n",
            "49/49 [==============================] - 34s 703ms/step - loss: 6.9156e-09 - acc: 1.0000 - val_loss: 1.3520 - val_acc: 0.8842\n",
            "Epoch 17/20\n",
            "49/49 [==============================] - 34s 704ms/step - loss: 5.5434e-09 - acc: 1.0000 - val_loss: 1.3666 - val_acc: 0.8840\n",
            "Epoch 18/20\n",
            "49/49 [==============================] - 34s 704ms/step - loss: 4.6384e-09 - acc: 1.0000 - val_loss: 1.3783 - val_acc: 0.8840\n",
            "Epoch 19/20\n",
            "49/49 [==============================] - 34s 702ms/step - loss: 3.9944e-09 - acc: 1.0000 - val_loss: 1.3886 - val_acc: 0.8838\n",
            "Epoch 20/20\n",
            "49/49 [==============================] - 34s 707ms/step - loss: 3.5087e-09 - acc: 1.0000 - val_loss: 1.3977 - val_acc: 0.8837\n"
          ]
        }
      ]
    },
    {
      "cell_type": "markdown",
      "metadata": {
        "id": "vqLzrfUHLZvt"
      },
      "source": [
        "다음은 더 큰 네트워크가 기본 네트워크에 비해 얼마나 차이나는지를 보여줍니다. 점이 용량이 큰 네트워크의 검증 손실이고 덧셈 기호는 원본 네트워크의 검증 손실입니다."
      ]
    },
    {
      "cell_type": "code",
      "metadata": {
        "colab": {
          "base_uri": "https://localhost:8080/",
          "height": 279
        },
        "id": "tQT0L69SLZvt",
        "outputId": "45919d3a-dcb8-4be3-9d6a-9b647dab872a"
      },
      "source": [
        "bigger_model_val_loss = bigger_model_hist.history['val_loss']\n",
        "\n",
        "plt.plot(epochs, original_val_loss, 'b+', label='Original model')\n",
        "plt.plot(epochs, bigger_model_val_loss, 'bo', label='Bigger model')\n",
        "plt.xlabel('Epochs')\n",
        "plt.ylabel('Validation loss')\n",
        "plt.legend()\n",
        "\n",
        "plt.show()"
      ],
      "execution_count": 12,
      "outputs": [
        {
          "output_type": "display_data",
          "data": {
            "image/png": "[encoded data removed]",
            "text/plain": [
              "<Figure size 432x288 with 1 Axes>"
            ]
          },
          "metadata": {
            "needs_background": "light"
          }
        }
      ]
    },
    {
      "cell_type": "markdown",
      "metadata": {
        "id": "ZV99OOjeLZvt"
      },
      "source": [
        "용량이 큰 네트워크는 첫 번째 에포크 이후 거의 바로 과대적합이 시작되어 갈수록 더 심해집니다. 검증 손실도 매우 불안정합니다.\n",
        "\n",
        "다음은 두 네트워크의 훈련 손실입니다:"
      ]
    },
    {
      "cell_type": "code",
      "metadata": {
        "colab": {
          "base_uri": "https://localhost:8080/",
          "height": 279
        },
        "id": "gR9GZA3nLZvt",
        "outputId": "3808f676-4450-471a-8760-453ff64a69c4"
      },
      "source": [
        "original_train_loss = original_hist.history['loss']\n",
        "bigger_model_train_loss = bigger_model_hist.history['loss']\n",
        "\n",
        "plt.plot(epochs, original_train_loss, 'b+', label='Original model')\n",
        "plt.plot(epochs, bigger_model_train_loss, 'bo', label='Bigger model')\n",
        "plt.xlabel('Epochs')\n",
        "plt.ylabel('Training loss')\n",
        "plt.legend()\n",
        "\n",
        "plt.show()"
      ],
      "execution_count": 13,
      "outputs": [
        {
          "output_type": "display_data",
          "data": {
            "image/png": "[encoded data removed]",
            "text/plain": [
              "<Figure size 432x288 with 1 Axes>"
            ]
          },
          "metadata": {
            "needs_background": "light"
          }
        }
      ]
    },
    {
      "cell_type": "markdown",
      "metadata": {
        "id": "u0zxqgkwLZvu"
      },
      "source": [
        "여기서 볼 수 있듯이 용량이 큰 네트워크는 훈련 손실이 매우 빠르게 0에 가까워집니다. 용량이 많은 네트워크일수록 더 빠르게 훈련 데이터를 모델링할 수 있습니다(결국 훈련 손실이 낮아집니다). 하지만 더욱 과대적합에 민감해집니다(결국 훈련과 검증 손실 사이에 큰 차이가 발생합니다)."
      ]
    },
    {
      "cell_type": "markdown",
      "metadata": {
        "id": "baMsJ7WoLZvu"
      },
      "source": [
        "## 가중치 규제 추가\n",
        "\n",
        "오캄의 면도날 이론을 알고 있을지 모르겠습니다. 어떤 것에 대한 두 가지의 설명이 있다면 더 적은 가정을 필요하는 간단한 설명이 옳을 것이라는 이론입니다. 이 개념은 신경망으로 학습되는 모델에도 적용됩니다. 어떤 훈련 데이터와 네트워크 구조가 주어졌을 때 데이터를 설명할 수 있는 가중치 값의 집합은 여러 개(여러 개의 모델)입니다. 간단한 모델이 복잡한 모델보다 덜 과대적합될 가능성이 높습니다.\n",
        "\n",
        "여기에서 간단한 모델은 파라미터 값 분포의 엔트로피가 작은 모델입니다(또는 앞 절에서 본 것처럼 적은 수의 파라미터를 가진 모델입니다). 그러므로 과대적합을 완화시키기 위한 일반적인 방법은 네트워크의 복잡도에 제한을 두어 가중치가 작은 값을 가지도록 강제하는 것입니다. 가중치 값의 분포가 더 균일하게 됩니다. 이를 가중치 규제라고 하고 네트워크의 손실 함수에 큰 가중치에 연관된 비용을 추가합니다. 두 가지 형태의 비용이 있습니다.\n",
        "\n",
        "* L1 규제 : 가중치의 절대값에 비례하는 비용이 추가됩니다(가중치의 L1 노름).\n",
        "* L2 규제 : 가중치의 제곱에 비례하는 비용이 추가됩니다(가중치의 L2 노름). L2 규제는 신경망에서 가중치 감쇠라고도 부릅니다. 다른 이름 때문에 혼돈하지 마세요. 가중치 감쇠는 수학적으로 L2 규제와 동일합니다.\n",
        "\n",
        "케라스에서 가중치 규제 인스턴스를 층의 키워드 매개변수로 전달하여 가중치 규제를 추가할 수 있습니다. 영화 리뷰 분류 네트워크에 L2 가중치 규제를 추가해 보죠:"
      ]
    },
    {
      "cell_type": "code",
      "metadata": {
        "id": "zZSQMfKnLZvu"
      },
      "source": [
        "from keras import regularizers\n",
        "\n",
        "l2_model = models.Sequential()\n",
        "l2_model.add(layers.Dense(16, kernel_regularizer=regularizers.l2(0.001),\n",
        "                          activation='relu', input_shape=(10000,)))\n",
        "l2_model.add(layers.Dense(16, kernel_regularizer=regularizers.l2(0.001),\n",
        "                          activation='relu'))\n",
        "l2_model.add(layers.Dense(1, activation='sigmoid'))"
      ],
      "execution_count": 14,
      "outputs": []
    },
    {
      "cell_type": "code",
      "metadata": {
        "id": "iDRe6b9kLZvu"
      },
      "source": [
        "l2_model.compile(optimizer='rmsprop',\n",
        "                 loss='binary_crossentropy',\n",
        "                 metrics=['acc'])"
      ],
      "execution_count": 15,
      "outputs": []
    },
    {
      "cell_type": "markdown",
      "metadata": {
        "id": "rVPyTnPELZvu"
      },
      "source": [
        "`l2(0.001)`는 가중치 행렬의 모든 원소를 제곱하고 `0.001`을 곱하여 네트워크의 전체 손실에 더해진다는 의미입니다. 이 페널티 항은 훈련할 때만 추가됩니다. 이 네트워크의 손실은 테스트보다 훈련할 때 더 높을 것입니다.\n",
        "\n",
        "L2 규제 페널티의 효과를 확인해 보죠:"
      ]
    },
    {
      "cell_type": "code",
      "metadata": {
        "colab": {
          "base_uri": "https://localhost:8080/"
        },
        "id": "UBVWtxfELZvv",
        "outputId": "3ab2ce95-d6ab-441e-fbf5-24f54bea217c"
      },
      "source": [
        "l2_model_hist = l2_model.fit(x_train, y_train,\n",
        "                             epochs=20,\n",
        "                             batch_size=64,\n",
        "                             validation_data=(x_test, y_test))"
      ],
      "execution_count": 16,
      "outputs": [
        {
          "output_type": "stream",
          "name": "stdout",
          "text": [
            "Epoch 1/20\n",
            "391/391 [==============================] - 6s 14ms/step - loss: 0.3683 - acc: 0.8660 - val_loss: 0.3200 - val_acc: 0.8850\n",
            "Epoch 2/20\n",
            "391/391 [==============================] - 5s 12ms/step - loss: 0.2811 - acc: 0.9057 - val_loss: 0.3505 - val_acc: 0.8728\n",
            "Epoch 3/20\n",
            "391/391 [==============================] - 5s 12ms/step - loss: 0.2682 - acc: 0.9116 - val_loss: 0.3410 - val_acc: 0.8758\n",
            "Epoch 4/20\n",
            "391/391 [==============================] - 5s 12ms/step - loss: 0.2635 - acc: 0.9129 - val_loss: 0.3501 - val_acc: 0.8744\n",
            "Epoch 5/20\n",
            "391/391 [==============================] - 5s 12ms/step - loss: 0.2554 - acc: 0.9162 - val_loss: 0.3354 - val_acc: 0.8796\n",
            "Epoch 6/20\n",
            "391/391 [==============================] - 4s 11ms/step - loss: 0.2507 - acc: 0.9189 - val_loss: 0.3397 - val_acc: 0.8784\n",
            "Epoch 7/20\n",
            "391/391 [==============================] - 4s 11ms/step - loss: 0.2441 - acc: 0.9218 - val_loss: 0.3649 - val_acc: 0.8699\n",
            "Epoch 8/20\n",
            "391/391 [==============================] - 5s 12ms/step - loss: 0.2349 - acc: 0.9262 - val_loss: 0.3460 - val_acc: 0.8778\n",
            "Epoch 9/20\n",
            "391/391 [==============================] - 5s 12ms/step - loss: 0.2247 - acc: 0.9304 - val_loss: 0.3950 - val_acc: 0.8621\n",
            "Epoch 10/20\n",
            "391/391 [==============================] - 5s 12ms/step - loss: 0.2194 - acc: 0.9317 - val_loss: 0.3791 - val_acc: 0.8730\n",
            "Epoch 11/20\n",
            "391/391 [==============================] - 5s 12ms/step - loss: 0.2145 - acc: 0.9356 - val_loss: 0.3637 - val_acc: 0.8736\n",
            "Epoch 12/20\n",
            "391/391 [==============================] - 4s 11ms/step - loss: 0.2068 - acc: 0.9382 - val_loss: 0.3944 - val_acc: 0.8641\n",
            "Epoch 13/20\n",
            "391/391 [==============================] - 5s 12ms/step - loss: 0.2006 - acc: 0.9420 - val_loss: 0.3918 - val_acc: 0.8728\n",
            "Epoch 14/20\n",
            "391/391 [==============================] - 4s 11ms/step - loss: 0.1955 - acc: 0.9450 - val_loss: 0.4040 - val_acc: 0.8666\n",
            "Epoch 15/20\n",
            "391/391 [==============================] - 4s 11ms/step - loss: 0.1893 - acc: 0.9467 - val_loss: 0.4200 - val_acc: 0.8633\n",
            "Epoch 16/20\n",
            "391/391 [==============================] - 4s 11ms/step - loss: 0.1837 - acc: 0.9500 - val_loss: 0.4173 - val_acc: 0.8658\n",
            "Epoch 17/20\n",
            "391/391 [==============================] - 4s 11ms/step - loss: 0.1770 - acc: 0.9527 - val_loss: 0.4388 - val_acc: 0.8626\n",
            "Epoch 18/20\n",
            "391/391 [==============================] - 4s 11ms/step - loss: 0.1725 - acc: 0.9559 - val_loss: 0.4381 - val_acc: 0.8668\n",
            "Epoch 19/20\n",
            "391/391 [==============================] - 4s 11ms/step - loss: 0.1677 - acc: 0.9574 - val_loss: 0.4509 - val_acc: 0.8655\n",
            "Epoch 20/20\n",
            "391/391 [==============================] - 4s 11ms/step - loss: 0.1653 - acc: 0.9591 - val_loss: 0.4618 - val_acc: 0.8628\n"
          ]
        }
      ]
    },
    {
      "cell_type": "code",
      "metadata": {
        "colab": {
          "base_uri": "https://localhost:8080/",
          "height": 279
        },
        "id": "mt01uhm_LZvv",
        "outputId": "d10a04cc-7700-4749-b5a0-1ef243d310b3"
      },
      "source": [
        "l2_model_val_loss = l2_model_hist.history['val_loss']\n",
        "\n",
        "plt.plot(epochs, original_val_loss, 'b+', label='Original model')\n",
        "plt.plot(epochs, l2_model_val_loss, 'bo', label='L2-regularized model')\n",
        "plt.xlabel('Epochs')\n",
        "plt.ylabel('Validation loss')\n",
        "plt.legend()\n",
        "\n",
        "plt.show()"
      ],
      "execution_count": 17,
      "outputs": [
        {
          "output_type": "display_data",
          "data": {
            "image/png": "[encoded data removed]",
            "text/plain": [
              "<Figure size 432x288 with 1 Axes>"
            ]
          },
          "metadata": {
            "needs_background": "light"
          }
        }
      ]
    },
    {
      "cell_type": "markdown",
      "metadata": {
        "id": "Rj0-uCgvLZvv"
      },
      "source": [
        "여기서 볼 수 있듯이 두 모델이 동일한 파라미터 수를 가지고 있더라도 L2 규제를 사용한 모델(점)이 기본 모델(덧셈 기호)보다 훨씬 더 과대적합에 잘 견디고 있습니다.\n",
        "\n",
        "케라스에서 L2 규제 대신에 다음과 같은 가중치 규제 중 하나를 사용할 수 있습니다:"
      ]
    },
    {
      "cell_type": "markdown",
      "metadata": {
        "collapsed": true,
        "id": "hOjt-5V-LZvv"
      },
      "source": [
        "```python\n",
        "from keras import regularizers\n",
        "\n",
        "# L1 규제\n",
        "regularizers.l1(0.001)\n",
        "\n",
        "# L1과 L2 규제 병행\n",
        "regularizers.l1_l2(l1=0.001, l2=0.001)\n",
        "```"
      ]
    },
    {
      "cell_type": "markdown",
      "metadata": {
        "id": "zHQ5hqqsLZvw"
      },
      "source": [
        "### l1(0.0001) 모델과 비교"
      ]
    },
    {
      "cell_type": "code",
      "metadata": {
        "id": "4rtuXkBxLZvw"
      },
      "source": [
        "l1_model = models.Sequential()\n",
        "l1_model.add(layers.Dense(16, kernel_regularizer=regularizers.l1(0.0001),\n",
        "                          activation='relu', input_shape=(10000,)))\n",
        "l1_model.add(layers.Dense(16, kernel_regularizer=regularizers.l1(0.0001),\n",
        "                          activation='relu'))\n",
        "l1_model.add(layers.Dense(1, activation='sigmoid'))"
      ],
      "execution_count": 18,
      "outputs": []
    },
    {
      "cell_type": "code",
      "metadata": {
        "id": "lm9I35zPLZvw"
      },
      "source": [
        "l1_model.compile(optimizer='rmsprop',\n",
        "                 loss='binary_crossentropy',\n",
        "                 metrics=['acc'])"
      ],
      "execution_count": 19,
      "outputs": []
    },
    {
      "cell_type": "code",
      "metadata": {
        "colab": {
          "base_uri": "https://localhost:8080/"
        },
        "id": "4bTh9Sv9LZvw",
        "outputId": "43f9e4a0-581d-4b0e-d7cb-ece74ded228f"
      },
      "source": [
        "l1_model_hist = l1_model.fit(x_train, y_train,\n",
        "                             epochs=20,\n",
        "                             batch_size=512,\n",
        "                             validation_data=(x_test, y_test))"
      ],
      "execution_count": 20,
      "outputs": [
        {
          "output_type": "stream",
          "name": "stdout",
          "text": [
            "Epoch 1/20\n",
            "49/49 [==============================] - 4s 63ms/step - loss: 0.5679 - acc: 0.8232 - val_loss: 0.4312 - val_acc: 0.8794\n",
            "Epoch 2/20\n",
            "49/49 [==============================] - 2s 46ms/step - loss: 0.3794 - acc: 0.8933 - val_loss: 0.3733 - val_acc: 0.8863\n",
            "Epoch 3/20\n",
            "49/49 [==============================] - 2s 46ms/step - loss: 0.3367 - acc: 0.9039 - val_loss: 0.3658 - val_acc: 0.8860\n",
            "Epoch 4/20\n",
            "49/49 [==============================] - 2s 46ms/step - loss: 0.3190 - acc: 0.9095 - val_loss: 0.3667 - val_acc: 0.8824\n",
            "Epoch 5/20\n",
            "49/49 [==============================] - 2s 46ms/step - loss: 0.3068 - acc: 0.9139 - val_loss: 0.3580 - val_acc: 0.8866\n",
            "Epoch 6/20\n",
            "49/49 [==============================] - 2s 46ms/step - loss: 0.2997 - acc: 0.9158 - val_loss: 0.3696 - val_acc: 0.8842\n",
            "Epoch 7/20\n",
            "49/49 [==============================] - 2s 45ms/step - loss: 0.2919 - acc: 0.9200 - val_loss: 0.3708 - val_acc: 0.8806\n",
            "Epoch 8/20\n",
            "49/49 [==============================] - 2s 45ms/step - loss: 0.2852 - acc: 0.9226 - val_loss: 0.3660 - val_acc: 0.8838\n",
            "Epoch 9/20\n",
            "49/49 [==============================] - 2s 44ms/step - loss: 0.2817 - acc: 0.9235 - val_loss: 0.3740 - val_acc: 0.8810\n",
            "Epoch 10/20\n",
            "49/49 [==============================] - 2s 45ms/step - loss: 0.2764 - acc: 0.9278 - val_loss: 0.3871 - val_acc: 0.8760\n",
            "Epoch 11/20\n",
            "49/49 [==============================] - 2s 45ms/step - loss: 0.2724 - acc: 0.9282 - val_loss: 0.3762 - val_acc: 0.8815\n",
            "Epoch 12/20\n",
            "49/49 [==============================] - 2s 45ms/step - loss: 0.2676 - acc: 0.9293 - val_loss: 0.3781 - val_acc: 0.8818\n",
            "Epoch 13/20\n",
            "49/49 [==============================] - 2s 46ms/step - loss: 0.2613 - acc: 0.9332 - val_loss: 0.3826 - val_acc: 0.8801\n",
            "Epoch 14/20\n",
            "49/49 [==============================] - 2s 44ms/step - loss: 0.2587 - acc: 0.9339 - val_loss: 0.3848 - val_acc: 0.8799\n",
            "Epoch 15/20\n",
            "49/49 [==============================] - 2s 45ms/step - loss: 0.2526 - acc: 0.9371 - val_loss: 0.4087 - val_acc: 0.8734\n",
            "Epoch 16/20\n",
            "49/49 [==============================] - 2s 45ms/step - loss: 0.2485 - acc: 0.9385 - val_loss: 0.3919 - val_acc: 0.8780\n",
            "Epoch 17/20\n",
            "49/49 [==============================] - 2s 45ms/step - loss: 0.2422 - acc: 0.9405 - val_loss: 0.4011 - val_acc: 0.8737\n",
            "Epoch 18/20\n",
            "49/49 [==============================] - 2s 45ms/step - loss: 0.2365 - acc: 0.9419 - val_loss: 0.3980 - val_acc: 0.8760\n",
            "Epoch 19/20\n",
            "49/49 [==============================] - 2s 45ms/step - loss: 0.2352 - acc: 0.9432 - val_loss: 0.4173 - val_acc: 0.8736\n",
            "Epoch 20/20\n",
            "49/49 [==============================] - 2s 45ms/step - loss: 0.2298 - acc: 0.9460 - val_loss: 0.4075 - val_acc: 0.8732\n"
          ]
        }
      ]
    },
    {
      "cell_type": "code",
      "metadata": {
        "colab": {
          "base_uri": "https://localhost:8080/",
          "height": 279
        },
        "id": "nwzpZ2GSLZvw",
        "outputId": "7816b442-3295-4d3e-da40-94b7f2b367af"
      },
      "source": [
        "l1_model_val_loss = l1_model_hist.history['val_loss']\n",
        "\n",
        "plt.plot(epochs, original_val_loss, 'b+', label='Original model')\n",
        "plt.plot(epochs, l1_model_val_loss, 'bo', label='L1-regularized model')\n",
        "plt.xlabel('Epochs')\n",
        "plt.ylabel('Validation loss')\n",
        "plt.legend()\n",
        "\n",
        "plt.show()"
      ],
      "execution_count": 21,
      "outputs": [
        {
          "output_type": "display_data",
          "data": {
            "image/png": "[encoded data removed]",
            "text/plain": [
              "<Figure size 432x288 with 1 Axes>"
            ]
          },
          "metadata": {
            "needs_background": "light"
          }
        }
      ]
    },
    {
      "cell_type": "markdown",
      "metadata": {
        "id": "0dwMRTmwLZvx"
      },
      "source": [
        "### l1_l2(l1=0.0001, l2=0.0001)모델과 비교"
      ]
    },
    {
      "cell_type": "code",
      "metadata": {
        "id": "WmZYZ2ZgLZvx"
      },
      "source": [
        "l1l2_model = models.Sequential()\n",
        "l1l2_model.add(layers.Dense(16, kernel_regularizer=regularizers.l1_l2(l1=0.0001, l2=0.0001),\n",
        "                            activation='relu', input_shape=(10000,)))\n",
        "l1l2_model.add(layers.Dense(16, kernel_regularizer=regularizers.l1_l2(l1=0.0001, l2=0.0001),\n",
        "                            activation='relu'))\n",
        "l1l2_model.add(layers.Dense(1, activation='sigmoid'))"
      ],
      "execution_count": 22,
      "outputs": []
    },
    {
      "cell_type": "code",
      "metadata": {
        "id": "mvjNwZvELZvx"
      },
      "source": [
        "l1l2_model.compile(optimizer='rmsprop',\n",
        "                   loss='binary_crossentropy',\n",
        "                   metrics=['acc'])"
      ],
      "execution_count": 23,
      "outputs": []
    },
    {
      "cell_type": "code",
      "metadata": {
        "colab": {
          "base_uri": "https://localhost:8080/"
        },
        "id": "D1vgt6QWLZvx",
        "outputId": "6af06b19-f6bb-415d-8bd2-505f7438e031"
      },
      "source": [
        "l1l2_model_hist = l1l2_model.fit(x_train, y_train,\n",
        "                                 epochs=20,\n",
        "                                 batch_size=512,\n",
        "                                 validation_data=(x_test, y_test))"
      ],
      "execution_count": 24,
      "outputs": [
        {
          "output_type": "stream",
          "name": "stdout",
          "text": [
            "Epoch 1/20\n",
            "49/49 [==============================] - 4s 69ms/step - loss: 0.5635 - acc: 0.8151 - val_loss: 0.4391 - val_acc: 0.8706\n",
            "Epoch 2/20\n",
            "49/49 [==============================] - 2s 46ms/step - loss: 0.3801 - acc: 0.8939 - val_loss: 0.3787 - val_acc: 0.8859\n",
            "Epoch 3/20\n",
            "49/49 [==============================] - 2s 46ms/step - loss: 0.3393 - acc: 0.9040 - val_loss: 0.3993 - val_acc: 0.8692\n",
            "Epoch 4/20\n",
            "49/49 [==============================] - 2s 45ms/step - loss: 0.3268 - acc: 0.9072 - val_loss: 0.3665 - val_acc: 0.8859\n",
            "Epoch 5/20\n",
            "49/49 [==============================] - 2s 45ms/step - loss: 0.3154 - acc: 0.9115 - val_loss: 0.3671 - val_acc: 0.8859\n",
            "Epoch 6/20\n",
            "49/49 [==============================] - 2s 46ms/step - loss: 0.3087 - acc: 0.9154 - val_loss: 0.3978 - val_acc: 0.8739\n",
            "Epoch 7/20\n",
            "49/49 [==============================] - 2s 46ms/step - loss: 0.3036 - acc: 0.9157 - val_loss: 0.3837 - val_acc: 0.8783\n",
            "Epoch 8/20\n",
            "49/49 [==============================] - 2s 46ms/step - loss: 0.2997 - acc: 0.9188 - val_loss: 0.3731 - val_acc: 0.8847\n",
            "Epoch 9/20\n",
            "49/49 [==============================] - 2s 47ms/step - loss: 0.2950 - acc: 0.9199 - val_loss: 0.3905 - val_acc: 0.8765\n",
            "Epoch 10/20\n",
            "49/49 [==============================] - 2s 46ms/step - loss: 0.2898 - acc: 0.9236 - val_loss: 0.4199 - val_acc: 0.8676\n",
            "Epoch 11/20\n",
            "49/49 [==============================] - 2s 46ms/step - loss: 0.2857 - acc: 0.9240 - val_loss: 0.3829 - val_acc: 0.8822\n",
            "Epoch 12/20\n",
            "49/49 [==============================] - 2s 46ms/step - loss: 0.2820 - acc: 0.9254 - val_loss: 0.3839 - val_acc: 0.8823\n",
            "Epoch 13/20\n",
            "49/49 [==============================] - 2s 47ms/step - loss: 0.2808 - acc: 0.9257 - val_loss: 0.3852 - val_acc: 0.8817\n",
            "Epoch 14/20\n",
            "49/49 [==============================] - 2s 46ms/step - loss: 0.2737 - acc: 0.9303 - val_loss: 0.3849 - val_acc: 0.8816\n",
            "Epoch 15/20\n",
            "49/49 [==============================] - 2s 46ms/step - loss: 0.2693 - acc: 0.9305 - val_loss: 0.4131 - val_acc: 0.8718\n",
            "Epoch 16/20\n",
            "49/49 [==============================] - 2s 47ms/step - loss: 0.2612 - acc: 0.9350 - val_loss: 0.4253 - val_acc: 0.8681\n",
            "Epoch 17/20\n",
            "49/49 [==============================] - 2s 46ms/step - loss: 0.2630 - acc: 0.9328 - val_loss: 0.3930 - val_acc: 0.8789\n",
            "Epoch 18/20\n",
            "49/49 [==============================] - 2s 46ms/step - loss: 0.2545 - acc: 0.9372 - val_loss: 0.4005 - val_acc: 0.8767\n",
            "Epoch 19/20\n",
            "49/49 [==============================] - 2s 45ms/step - loss: 0.2545 - acc: 0.9374 - val_loss: 0.4141 - val_acc: 0.8725\n",
            "Epoch 20/20\n",
            "49/49 [==============================] - 2s 46ms/step - loss: 0.2470 - acc: 0.9405 - val_loss: 0.4076 - val_acc: 0.8754\n"
          ]
        }
      ]
    },
    {
      "cell_type": "code",
      "metadata": {
        "colab": {
          "base_uri": "https://localhost:8080/",
          "height": 279
        },
        "id": "y2VYSO1gLZvy",
        "outputId": "fb7a48fa-6c97-47e1-c171-21dda3bdfdff"
      },
      "source": [
        "l1l2_model_val_loss = l1l2_model_hist.history['val_loss']\n",
        "\n",
        "plt.plot(epochs, original_val_loss, 'b+', label='Original model')\n",
        "plt.plot(epochs, l1l2_model_val_loss, 'bo', label='L1,L2-regularized model')\n",
        "plt.xlabel('Epochs')\n",
        "plt.ylabel('Validation loss')\n",
        "plt.legend()\n",
        "\n",
        "plt.show()"
      ],
      "execution_count": 25,
      "outputs": [
        {
          "output_type": "display_data",
          "data": {
            "image/png": "[encoded data removed]",
            "text/plain": [
              "<Figure size 432x288 with 1 Axes>"
            ]
          },
          "metadata": {
            "needs_background": "light"
          }
        }
      ]
    },
    {
      "cell_type": "markdown",
      "metadata": {
        "id": "mX-BKn4NLZvy"
      },
      "source": [
        "## 드롭아웃 추가\n",
        "\n",
        "드롭아웃은 토론토 대학의 제프리 힌튼과 그의 학생들이 개발했습니다. 신경망을 위해 사용되는 규제 기법 중에서 가장 효과적이고 널리 사용되는 방법 중에 하나입니다. 네트워크의 층에 드롭아웃을 적용하면 훈련하는 동안 무작위로 층의 일부 출력 특성을 제외시킵니다(0으로 만듭니다). 한 층이 정상적으로 훈련하는 동안에는 어떤 입력 샘플에 대해 `[0.2, 0.5, 1.3, 0.8, 1.1]` 벡터를 출력한다고 가정합시다. 드롭아웃을 적용하면 이 벡터의 일부가 무작위로 0으로 바뀝니다. 예를 들면 `[0, 0.5, 1.3, 0, 1.1]`이 됩니다. 드롭아웃 비율은 0이 될 특성의 비율입니다. 보통 0.2에서 0.5 사이로 지정됩니다. 테스트 단계에서는 어떤 유닛도 드롭아웃되지 않습니다. 대신에 층의 출력을 드롭아웃 비율에 비례하여 줄여 줍니다. 훈련할 때보다 더 많은 유닛이 활성화되기 때문입니다.\n",
        "\n",
        "크기가 `(batch_size, features)`인 한 층의 출력을 담고 있는 넘파이 행렬을 생각해 보겠습니다. 훈련할 때는 이 행렬의 값의 일부가 랜덤하게 0이 됩니다:"
      ]
    },
    {
      "cell_type": "markdown",
      "metadata": {
        "collapsed": true,
        "id": "z3oukkXULZvy"
      },
      "source": [
        "```python\n",
        "# 훈련할 때 유닛의 출력 중 50%를 버립니다\n",
        "layer_output *= np.random.randint(0, high=2, size=layer_output.shape)\n",
        "```"
      ]
    },
    {
      "cell_type": "markdown",
      "metadata": {
        "id": "m9ilC-gsLZvy"
      },
      "source": [
        "테스트할 때는 드롭아웃 비율로 출력을 낮추어 주어야 합니다. 여기에서는 0.5배만큼 스케일을 조정했습니다(앞에서 절반의 유닛을 드롭아웃했으므로):"
      ]
    },
    {
      "cell_type": "markdown",
      "metadata": {
        "collapsed": true,
        "id": "SlApV7SULZvy"
      },
      "source": [
        "```python\n",
        "# 테스트 단계\n",
        "layer_output *= 0.5\n",
        "```"
      ]
    },
    {
      "cell_type": "markdown",
      "metadata": {
        "id": "BM-CU0YvLZvy"
      },
      "source": [
        "훈련 단계에 이 두 연산을 포함시켜 테스트 단계에는 출력을 그대로 두도록 구현할 수 있습니다. 실제로 종종 이런 방식으로 구현합니다:"
      ]
    },
    {
      "cell_type": "markdown",
      "metadata": {
        "collapsed": true,
        "id": "a6taOKCKLZvy"
      },
      "source": [
        "```python\n",
        "# 훈련 단계\n",
        "layer_output *= np.randint(0, high=2, size=layer_output.shape)\n",
        "# 여기에서 스케일을 낮추는 대신 높입니다![image.png](attachment:image.png)\n",
        "layer_output /= 0.5\n",
        "```"
      ]
    },
    {
      "cell_type": "markdown",
      "metadata": {
        "id": "AOakEtY8LZvz"
      },
      "source": [
        "이 기법이 이상하고 무계획적으로 보일 수 있습니다. 왜 드롭아웃이 과대적합을 줄이는 데 도움이 될까요? 힌튼은 은행에서 사용하는 부정 방지 메커니즘에서 착안했다고 합니다. 그의 말을 빌리면 “은행에 갔을 때 행원들이 계속 바뀌길래 왜 그런지를 물었습니다. 자신들도 이유는 모르지만 자주 업무가 바뀐다고 했습니다. 나는 은행에서 부정 행위를 하려면 직원들 사이의 유대가 필요하기 때문이라고 판단했습니다. 각 샘플에 대해 뉴런의 일부를 무작위하게 제거하면 뉴런의 부정한 협업을 방지하고 결국 과대적합을 감소시킨다는 것을 깨달았습니다.\"\n",
        "\n",
        "핵심 아이디어는 층의 출력 값에 노이즈를 추가하여 중요하지 않은 우연한 패턴(힌튼이 이야기한 부정한 협업)을 깨뜨리는 것입니다. 노이즈가 없다면 네트워크가 이 패턴을 기억하기 시작할 것입니다.\n",
        "\n",
        "케라스에서는 층의 출력 바로 뒤에 `Dropout` 층을 추가하여 네트워크에 드롭아웃을 적용할 수 있습니다:"
      ]
    },
    {
      "cell_type": "markdown",
      "metadata": {
        "collapsed": true,
        "id": "rAQAHus8LZvz"
      },
      "source": [
        "```python\n",
        "model.add(layers.Dropout(0.5))\n",
        "```"
      ]
    },
    {
      "cell_type": "markdown",
      "metadata": {
        "id": "r9UaXhObLZvz"
      },
      "source": [
        "IMDB 네트워크에 두 개의 `Dropout` 층을 추가하고 과대적합을 얼마나 줄여주는지 확인해 보겠습니다:"
      ]
    },
    {
      "cell_type": "code",
      "metadata": {
        "id": "D9rf4QSjLZvz"
      },
      "source": [
        "dpt_model = models.Sequential()\n",
        "dpt_model.add(layers.Dense(16, activation='relu', input_shape=(10000,)))\n",
        "dpt_model.add(layers.Dropout(0.5))\n",
        "dpt_model.add(layers.Dense(16, activation='relu'))\n",
        "dpt_model.add(layers.Dropout(0.5))\n",
        "dpt_model.add(layers.Dense(1, activation='sigmoid'))\n",
        "\n",
        "dpt_model.compile(optimizer='rmsprop',\n",
        "                  loss='binary_crossentropy',\n",
        "                  metrics=['acc'])"
      ],
      "execution_count": 26,
      "outputs": []
    },
    {
      "cell_type": "code",
      "metadata": {
        "colab": {
          "base_uri": "https://localhost:8080/"
        },
        "id": "hcGu8kIuLZvz",
        "outputId": "38015d7d-6c93-443f-b3b1-f329e68c933c"
      },
      "source": [
        "dpt_model_hist = dpt_model.fit(x_train, y_train,\n",
        "                               epochs=20,\n",
        "                               batch_size=512,\n",
        "                               validation_data=(x_test, y_test))"
      ],
      "execution_count": 27,
      "outputs": [
        {
          "output_type": "stream",
          "name": "stdout",
          "text": [
            "Epoch 1/20\n",
            "49/49 [==============================] - 4s 57ms/step - loss: 0.6053 - acc: 0.6858 - val_loss: 0.4822 - val_acc: 0.8515\n",
            "Epoch 2/20\n",
            "49/49 [==============================] - 2s 44ms/step - loss: 0.4638 - acc: 0.8079 - val_loss: 0.3570 - val_acc: 0.8803\n",
            "Epoch 3/20\n",
            "49/49 [==============================] - 3s 53ms/step - loss: 0.3777 - acc: 0.8611 - val_loss: 0.3059 - val_acc: 0.8863\n",
            "Epoch 4/20\n",
            "49/49 [==============================] - 3s 58ms/step - loss: 0.3219 - acc: 0.8846 - val_loss: 0.2872 - val_acc: 0.8906\n",
            "Epoch 5/20\n",
            "49/49 [==============================] - 2s 43ms/step - loss: 0.2794 - acc: 0.9050 - val_loss: 0.2864 - val_acc: 0.8903\n",
            "Epoch 6/20\n",
            "49/49 [==============================] - 2s 44ms/step - loss: 0.2491 - acc: 0.9175 - val_loss: 0.2957 - val_acc: 0.8873\n",
            "Epoch 7/20\n",
            "49/49 [==============================] - 2s 44ms/step - loss: 0.2272 - acc: 0.9265 - val_loss: 0.3061 - val_acc: 0.8872\n",
            "Epoch 8/20\n",
            "49/49 [==============================] - 2s 45ms/step - loss: 0.2070 - acc: 0.9329 - val_loss: 0.3349 - val_acc: 0.8828\n",
            "Epoch 9/20\n",
            "49/49 [==============================] - 2s 44ms/step - loss: 0.1876 - acc: 0.9419 - val_loss: 0.3385 - val_acc: 0.8841\n",
            "Epoch 10/20\n",
            "49/49 [==============================] - 2s 44ms/step - loss: 0.1722 - acc: 0.9464 - val_loss: 0.3695 - val_acc: 0.8839\n",
            "Epoch 11/20\n",
            "49/49 [==============================] - 2s 45ms/step - loss: 0.1603 - acc: 0.9496 - val_loss: 0.3842 - val_acc: 0.8817\n",
            "Epoch 12/20\n",
            "49/49 [==============================] - 2s 44ms/step - loss: 0.1463 - acc: 0.9526 - val_loss: 0.4139 - val_acc: 0.8798\n",
            "Epoch 13/20\n",
            "49/49 [==============================] - 2s 44ms/step - loss: 0.1388 - acc: 0.9569 - val_loss: 0.4433 - val_acc: 0.8794\n",
            "Epoch 14/20\n",
            "49/49 [==============================] - 2s 44ms/step - loss: 0.1345 - acc: 0.9598 - val_loss: 0.4407 - val_acc: 0.8752\n",
            "Epoch 15/20\n",
            "49/49 [==============================] - 2s 45ms/step - loss: 0.1300 - acc: 0.9616 - val_loss: 0.5105 - val_acc: 0.8741\n",
            "Epoch 16/20\n",
            "49/49 [==============================] - 2s 44ms/step - loss: 0.1282 - acc: 0.9617 - val_loss: 0.5152 - val_acc: 0.8748\n",
            "Epoch 17/20\n",
            "49/49 [==============================] - 2s 45ms/step - loss: 0.1197 - acc: 0.9662 - val_loss: 0.5508 - val_acc: 0.8747\n",
            "Epoch 18/20\n",
            "49/49 [==============================] - 2s 45ms/step - loss: 0.1138 - acc: 0.9674 - val_loss: 0.5302 - val_acc: 0.8730\n",
            "Epoch 19/20\n",
            "49/49 [==============================] - 2s 44ms/step - loss: 0.1088 - acc: 0.9681 - val_loss: 0.6095 - val_acc: 0.8713\n",
            "Epoch 20/20\n",
            "49/49 [==============================] - 2s 44ms/step - loss: 0.1071 - acc: 0.9706 - val_loss: 0.6320 - val_acc: 0.8722\n"
          ]
        }
      ]
    },
    {
      "cell_type": "markdown",
      "metadata": {
        "id": "LvAxGsnwLZvz"
      },
      "source": [
        "결과 그래프를 그려 보죠:"
      ]
    },
    {
      "cell_type": "code",
      "metadata": {
        "colab": {
          "base_uri": "https://localhost:8080/",
          "height": 279
        },
        "id": "n1-VaiH1LZvz",
        "outputId": "f3a72f2d-e943-400e-9329-eb743f68ca3f"
      },
      "source": [
        "dpt_model_val_loss = dpt_model_hist.history['val_loss']\n",
        "\n",
        "plt.plot(epochs, original_val_loss, 'b+', label='Original model')\n",
        "plt.plot(epochs, dpt_model_val_loss, 'bo', label='Dropout-regularized model')\n",
        "plt.xlabel('Epochs')\n",
        "plt.ylabel('Validation loss')\n",
        "plt.legend()\n",
        "\n",
        "plt.show()"
      ],
      "execution_count": 28,
      "outputs": [
        {
          "output_type": "display_data",
          "data": {
            "image/png": "[encoded data removed]",
            "text/plain": [
              "<Figure size 432x288 with 1 Axes>"
            ]
          },
          "metadata": {
            "needs_background": "light"
          }
        }
      ]
    },
    {
      "cell_type": "markdown",
      "metadata": {
        "id": "3B6ShBEULZvz"
      },
      "source": [
        "여기에서도 기본 네트워크보다 확실히 향상되었습니다.\n",
        "\n",
        "정리하면 신경망에서 과대적합을 방지하기 위해 가장 널리 사용하는 방법은 다음과 같습니다.\n",
        "\n",
        "* 훈련 데이터를 더 모읍니다.\n",
        "* 네트워크의 용량을 감소시킵니다.\n",
        "* 가중치 규제를 추가합니다.\n",
        "* 드롭아웃을 추가합니다"
      ]
    }
  ]
}