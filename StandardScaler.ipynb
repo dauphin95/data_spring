{
  "nbformat": 4,
  "nbformat_minor": 0,
  "metadata": {
    "colab": {
      "name": "StandardScaler.ipynb",
      "provenance": [],
      "authorship_tag": "ABX9TyMowPSVRK/zaGtkEVM8FtT1",
      "include_colab_link": true
    },
    "kernelspec": {
      "name": "python3",
      "display_name": "Python 3"
    },
    "language_info": {
      "name": "python"
    },
    "accelerator": "GPU"
  },
  "cells": [
    {
      "cell_type": "markdown",
      "metadata": {
        "id": "view-in-github",
        "colab_type": "text"
      },
      "source": [
        "<a href=\"https://colab.research.google.com/github/dauphin95/data_spring/blob/master/StandardScaler.ipynb\" target=\"_parent\"><img src=\"https://colab.research.google.com/assets/colab-badge.svg\" alt=\"Open In Colab\"/></a>"
      ]
    },
    {
      "cell_type": "code",
      "metadata": {
        "id": "z8cCWZndVptD"
      },
      "source": [
        "import numpy as np                   # array, vector, matrix calculations\n",
        "import pandas as pd                  # DataFrame handling\n",
        "from sklearn.model_selection import train_test_split\n",
        "import xgboost as xgb                # gradient boosting machines (GBMs)\n",
        "from sklearn.preprocessing import StandardScaler\n",
        "\n",
        "df = pd.read_csv('credit_cards_dataset.csv')\n",
        "X = df.drop(['ID', 'default.payment.next.month'], axis=1).values\n",
        "Y = df['default.payment.next.month'].values\n",
        "X_train, X_test, Y_train, Y_test = train_test_split(X, Y, test_size=0.3, random_state=42)\n",
        "\n",
        "## 평균 0, 분산 1 -> 같은 scaler로 바뀜\n",
        "sc = StandardScaler()\n",
        "X_train_sc = sc.fit_transform(X_train)\n",
        "X_test_sc = sc.fit_transform(X_test)"
      ],
      "execution_count": 6,
      "outputs": []
    },
    {
      "cell_type": "code",
      "metadata": {
        "colab": {
          "base_uri": "https://localhost:8080/"
        },
        "id": "eoWkHWK5WxfJ",
        "outputId": "0af14521-b9d1-406d-c0fc-ba1aaa3218ff"
      },
      "source": [
        "# XGBoost Regressor\n",
        "mod = xgb.XGBRegressor(\n",
        "    gamma=1,                 \n",
        "    learning_rate=0.01,\n",
        "    max_depth=3,\n",
        "    n_estimators=10000,                                                                    \n",
        "    subsample=0.8,\n",
        "    random_state=42,\n",
        "    verbosity=1 )\n",
        "mod.fit(X_train_sc, Y_train)\n",
        "\n",
        "## 예측\n",
        "ypred = mod.predict(X_test_sc)\n",
        "\n",
        "## 회귀 분석 L1, L2 에러값 출력\n",
        "import math\n",
        "from sklearn.metrics import mean_squared_error\n",
        "rmse = math.sqrt(mean_squared_error(Y_test, ypred))\n",
        "print(rmse)\n",
        "mae = mean_squared_error(Y_test, ypred)\n",
        "print(mae)\n"
      ],
      "execution_count": null,
      "outputs": [
        {
          "output_type": "stream",
          "name": "stdout",
          "text": [
            "[05:07:57] WARNING: /workspace/src/objective/regression_obj.cu:152: reg:linear is now deprecated in favor of reg:squarederror.\n"
          ]
        }
      ]
    },
    {
      "cell_type": "code",
      "metadata": {
        "id": "78RHOmHqqNLX"
      },
      "source": [
        "## 분류 분석 에러값 출력\n",
        "from sklearn.metrics import accuracy_score\n",
        "from sklearn.metrics import confusion_matrix\n",
        "from sklearn.metrics import precision_score\n",
        "from sklearn.metrics import recall_score\n",
        "from sklearn import metrics\n",
        "from sklearn.model_selection import GridSearchCV\n",
        "import matplotlib\n",
        "import matplotlib.pyplot as plt\n",
        "%matplotlib inline\n",
        "import itertools\n",
        "\n",
        "predictions = np.rint(ypred)\n",
        "accuracy = accuracy_score(Y_test, predictions)\n",
        "cm = confusion_matrix(Y_test, predictions)\n",
        "precision = precision_score(Y_test, predictions)\n",
        "recall = recall_score(Y_test, predictions)\n",
        "print(f'accuracy = {accuracy}' )\n",
        "print(f'cm = {cm}')\n",
        "print(f'precision = {precision}')\n",
        "print(f'recall = {recall}')\n",
        "\n",
        "def plot_confusion_matrix(cm, classes,\n",
        "                          normalize=False,\n",
        "                          title='Confusion matrix',\n",
        "                          cmap=plt.cm.Blues):\n",
        "    if normalize:\n",
        "        cm = cm.astype('float') / cm.sum(axis=1)[:, np.newaxis]\n",
        "        print(\"Normalized confusion matrix\")\n",
        "    else:\n",
        "        print('Confusion matrix, without normalization')\n",
        "\n",
        "    print(cm)\n",
        "    \n",
        "    plt.imshow(cm, interpolation='nearest', cmap=cmap)\n",
        "    plt.title(title)\n",
        "    plt.colorbar()\n",
        "    tick_marks = np.arange(len(classes))\n",
        "    plt.xticks(tick_marks, classes, rotation=45)\n",
        "    plt.yticks(tick_marks, classes)\n",
        "\n",
        "    fmt = '.2f' if normalize else 'd'\n",
        "    thresh = cm.max() / 2.\n",
        "    for i, j in itertools.product(range(cm.shape[0]), range(cm.shape[1])):\n",
        "        plt.text(j, i, format(cm[i, j], fmt),\n",
        "                 horizontalalignment=\"center\",\n",
        "                 color=\"white\" if cm[i, j] > thresh else \"black\")\n",
        "plt.figure()\n",
        "plot_confusion_matrix(cm, classes=['Non_Default','Default'], normalize=False,\n",
        "                      title='Non Normalized confusion matrix')"
      ],
      "execution_count": null,
      "outputs": []
    }
  ]
}