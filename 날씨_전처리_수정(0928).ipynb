{
  "nbformat": 4,
  "nbformat_minor": 0,
  "metadata": {
    "colab": {
      "name": "날씨_전처리_수정(0928).ipynb",
      "provenance": [],
      "collapsed_sections": [],
      "include_colab_link": true
    },
    "kernelspec": {
      "name": "python3",
      "display_name": "Python 3"
    },
    "language_info": {
      "name": "python"
    },
    "accelerator": "GPU"
  },
  "cells": [
    {
      "cell_type": "markdown",
      "metadata": {
        "id": "view-in-github",
        "colab_type": "text"
      },
      "source": [
        "<a href=\"https://colab.research.google.com/github/dauphin95/data_spring/blob/master/%EB%82%A0%EC%94%A8_%EC%A0%84%EC%B2%98%EB%A6%AC_%EC%88%98%EC%A0%95(0928).ipynb\" target=\"_parent\"><img src=\"https://colab.research.google.com/assets/colab-badge.svg\" alt=\"Open In Colab\"/></a>"
      ]
    },
    {
      "cell_type": "markdown",
      "metadata": {
        "id": "S-1Gc7IrCx5c"
      },
      "source": [
        "* **날씨 전처리(0927_다영작성)**\n",
        "* 다른 column을 사용할 지 몰라서 drop은 진행하지 않음(지점, 일시 drop 가능)\n",
        "* 데이터 로드(0)\n",
        "* 8개 구별 데이터만 존재 - 구 이름 통일(?) \n",
        "* 대기 데이터 - 서초구, 날씨데이터 - 서초 -> 서초구로 진행\n",
        "문제발생(영등포구 안바뀜)\n",
        "* 년, 월 날짜 분리(0)\n",
        "* null값 어떻게 해야할지 정하기\n",
        "\n"
      ]
    },
    {
      "cell_type": "code",
      "metadata": {
        "colab": {
          "base_uri": "https://localhost:8080/"
        },
        "id": "NX0w0uzYCluN",
        "outputId": "583e33c3-4292-43d0-f2d2-1b9e813e1e6d"
      },
      "source": [
        "import pandas as pd\n",
        "file ='aaa.csv'\n",
        "df = pd.read_csv(file)\n",
        "\n",
        "print(df.head(), df.tail(), df.info(), df.describe())\n",
        "#평균기온, 일강수량, 평균풍속 null값 존재\n"
      ],
      "execution_count": 1,
      "outputs": [
        {
          "output_type": "stream",
          "name": "stdout",
          "text": [
            "<class 'pandas.core.frame.DataFrame'>\n",
            "RangeIndex: 14608 entries, 0 to 14607\n",
            "Data columns (total 6 columns):\n",
            " #   Column      Non-Null Count  Dtype  \n",
            "---  ------      --------------  -----  \n",
            " 0   지점          14608 non-null  int64  \n",
            " 1   지점명         14608 non-null  object \n",
            " 2   일시          14608 non-null  object \n",
            " 3   평균기온(°C)    14457 non-null  float64\n",
            " 4   일강수량(mm)    14601 non-null  float64\n",
            " 5   평균 풍속(m/s)  14473 non-null  float64\n",
            "dtypes: float64(3), int64(1), object(2)\n",
            "memory usage: 684.9+ KB\n",
            "    지점 지점명        일시  평균기온(°C)  일강수량(mm)  평균 풍속(m/s)\n",
            "0  401  서초  2016.1.1       2.5       0.0         0.6\n",
            "1  401  서초  2016.1.2       7.5       0.0         0.8\n",
            "2  401  서초  2016.1.3       7.6       0.0         0.6\n",
            "3  401  서초  2016.1.4       3.4       0.0         1.8\n",
            "4  401  서초  2016.1.5      -0.8       0.0         1.5         지점   지점명          일시  평균기온(°C)  일강수량(mm)  평균 풍속(m/s)\n",
            "14603  510  영등포   2020.12.27       6.8       0.0         0.6\n",
            "14604  510  영등포   2020.12.28       7.4       1.0         0.6\n",
            "14605  510  영등포   2020.12.29       0.9       0.0         1.3\n",
            "14606  510  영등포   2020.12.30      -9.8       0.0         2.2\n",
            "14607  510  영등포   2020.12.31      -7.7       0.0         1.4 None                  지점      평균기온(°C)      일강수량(mm)    평균 풍속(m/s)\n",
            "count  14608.000000  14457.000000  14601.000000  14473.000000\n",
            "mean     419.879723     13.828754      3.080748      1.619885\n",
            "std       34.442461     10.416555     11.573061      0.724211\n",
            "min      401.000000    -15.600000      0.000000      0.100000\n",
            "25%      402.750000      4.900000      0.000000      1.100000\n",
            "50%      404.000000     14.800000      0.000000      1.500000\n",
            "75%      413.000000     23.000000      0.000000      1.900000\n",
            "max      510.000000     34.200000    148.500000      7.500000\n"
          ]
        }
      ]
    },
    {
      "cell_type": "code",
      "metadata": {
        "colab": {
          "base_uri": "https://localhost:8080/"
        },
        "id": "bjUe4S3WDE8Y",
        "outputId": "673eeb15-32ff-4b86-e4db-9f09b3f89bf3"
      },
      "source": [
        "df['일시'] = df['일시'].astype('str')\n",
        "#df['측정일시'] = air16['측정일시'].astype('datetime64[ns]')\n",
        "df['일시'] = df['일시'].astype('str')\n",
        "df_ = df['일시'].str.split('.')\n",
        "df['년'] = df_.str.get(0)\n",
        "df['월'] = df_.str.get(1)\n",
        "print(df.head())"
      ],
      "execution_count": 3,
      "outputs": [
        {
          "output_type": "stream",
          "name": "stdout",
          "text": [
            "    지점 지점명        일시  평균기온(°C)  일강수량(mm)  평균 풍속(m/s)     년  월\n",
            "0  401  서초  2016.1.1       2.5       0.0         0.6  2016  1\n",
            "1  401  서초  2016.1.2       7.5       0.0         0.8  2016  1\n",
            "2  401  서초  2016.1.3       7.6       0.0         0.6  2016  1\n",
            "3  401  서초  2016.1.4       3.4       0.0         1.8  2016  1\n",
            "4  401  서초  2016.1.5      -0.8       0.0         1.5  2016  1\n"
          ]
        }
      ]
    },
    {
      "cell_type": "markdown",
      "metadata": {
        "id": "Y2yK0E82Elup"
      },
      "source": [
        "* **null값 개수 확인 - 어떻게 처리해야할지 논의 필요**\n",
        ">- 평균값, 제거, 중위값 치환\n",
        ">- 평균값 : df_mean = df['평균기온'].mean(axis = 0)\n",
        "  \n",
        "   df['평균기온'].fillna((df_mean, inplace = True)\n",
        "\n",
        ">- null값이 하나만 있어도 제거 : df_ = df.dropna(subset = ['평균기온'], how = 'any', axis = 0) print(len(df_)-> 길이로 제거되었나 확인\n",
        "\n",
        ">- 치환 : (최빈값으로 치환) most_freq = df['평균기온'].value_counts(dropna = True).idxmax() \n",
        "df['평균기온'].fillna(most_freq, inplace = True)"
      ]
    },
    {
      "cell_type": "markdown",
      "metadata": {
        "id": "5nHmzHWpF9wU"
      },
      "source": [
        "* ** 구 이름 통일**\n",
        ">- 서초 -> 서초구"
      ]
    },
    {
      "cell_type": "code",
      "metadata": {
        "colab": {
          "base_uri": "https://localhost:8080/"
        },
        "id": "AJRZ3reeElYG",
        "outputId": "4593aa1d-7266-4577-c1d3-616f56a4601f"
      },
      "source": [
        "#영등포구, 마포구, 서초구, 송파구, 광진구, 용산구, 강동구, 강서구\n",
        "\n",
        "df.replace('서초','서초구', inplace = True)\n",
        "df.replace('마포','마포구', inplace = True)\n",
        "df.replace('송파','송파구', inplace = True)\n",
        "df.replace('광진','광진구', inplace = True)\n",
        "df.replace('용산','용산구', inplace = True)\n",
        "df.replace('강동','강동구', inplace = True)\n",
        "df.replace('강서','강서구', inplace = True)\n",
        "df.replace('영등포 ' ,'영등포구', inplace = True)\n",
        "df.info()"
      ],
      "execution_count": 4,
      "outputs": [
        {
          "output_type": "stream",
          "name": "stdout",
          "text": [
            "<class 'pandas.core.frame.DataFrame'>\n",
            "RangeIndex: 14608 entries, 0 to 14607\n",
            "Data columns (total 8 columns):\n",
            " #   Column      Non-Null Count  Dtype  \n",
            "---  ------      --------------  -----  \n",
            " 0   지점          14608 non-null  int64  \n",
            " 1   지점명         14608 non-null  object \n",
            " 2   일시          14608 non-null  object \n",
            " 3   평균기온(°C)    14457 non-null  float64\n",
            " 4   일강수량(mm)    14601 non-null  float64\n",
            " 5   평균 풍속(m/s)  14473 non-null  float64\n",
            " 6   년           14608 non-null  object \n",
            " 7   월           14608 non-null  object \n",
            "dtypes: float64(3), int64(1), object(4)\n",
            "memory usage: 913.1+ KB\n"
          ]
        }
      ]
    },
    {
      "cell_type": "code",
      "metadata": {
        "colab": {
          "base_uri": "https://localhost:8080/",
          "height": 204
        },
        "id": "6ESM_2_cNdhf",
        "outputId": "6200ad18-e1ea-478c-bec3-fea5937a4436"
      },
      "source": [
        "df.head()"
      ],
      "execution_count": 5,
      "outputs": [
        {
          "output_type": "execute_result",
          "data": {
            "text/html": [
              "<div>\n",
              "<style scoped>\n",
              "    .dataframe tbody tr th:only-of-type {\n",
              "        vertical-align: middle;\n",
              "    }\n",
              "\n",
              "    .dataframe tbody tr th {\n",
              "        vertical-align: top;\n",
              "    }\n",
              "\n",
              "    .dataframe thead th {\n",
              "        text-align: right;\n",
              "    }\n",
              "</style>\n",
              "<table border=\"1\" class=\"dataframe\">\n",
              "  <thead>\n",
              "    <tr style=\"text-align: right;\">\n",
              "      <th></th>\n",
              "      <th>지점</th>\n",
              "      <th>지점명</th>\n",
              "      <th>일시</th>\n",
              "      <th>평균기온(°C)</th>\n",
              "      <th>일강수량(mm)</th>\n",
              "      <th>평균 풍속(m/s)</th>\n",
              "      <th>년</th>\n",
              "      <th>월</th>\n",
              "    </tr>\n",
              "  </thead>\n",
              "  <tbody>\n",
              "    <tr>\n",
              "      <th>0</th>\n",
              "      <td>401</td>\n",
              "      <td>서초구</td>\n",
              "      <td>2016.1.1</td>\n",
              "      <td>2.5</td>\n",
              "      <td>0.0</td>\n",
              "      <td>0.6</td>\n",
              "      <td>2016</td>\n",
              "      <td>1</td>\n",
              "    </tr>\n",
              "    <tr>\n",
              "      <th>1</th>\n",
              "      <td>401</td>\n",
              "      <td>서초구</td>\n",
              "      <td>2016.1.2</td>\n",
              "      <td>7.5</td>\n",
              "      <td>0.0</td>\n",
              "      <td>0.8</td>\n",
              "      <td>2016</td>\n",
              "      <td>1</td>\n",
              "    </tr>\n",
              "    <tr>\n",
              "      <th>2</th>\n",
              "      <td>401</td>\n",
              "      <td>서초구</td>\n",
              "      <td>2016.1.3</td>\n",
              "      <td>7.6</td>\n",
              "      <td>0.0</td>\n",
              "      <td>0.6</td>\n",
              "      <td>2016</td>\n",
              "      <td>1</td>\n",
              "    </tr>\n",
              "    <tr>\n",
              "      <th>3</th>\n",
              "      <td>401</td>\n",
              "      <td>서초구</td>\n",
              "      <td>2016.1.4</td>\n",
              "      <td>3.4</td>\n",
              "      <td>0.0</td>\n",
              "      <td>1.8</td>\n",
              "      <td>2016</td>\n",
              "      <td>1</td>\n",
              "    </tr>\n",
              "    <tr>\n",
              "      <th>4</th>\n",
              "      <td>401</td>\n",
              "      <td>서초구</td>\n",
              "      <td>2016.1.5</td>\n",
              "      <td>-0.8</td>\n",
              "      <td>0.0</td>\n",
              "      <td>1.5</td>\n",
              "      <td>2016</td>\n",
              "      <td>1</td>\n",
              "    </tr>\n",
              "  </tbody>\n",
              "</table>\n",
              "</div>"
            ],
            "text/plain": [
              "    지점  지점명        일시  평균기온(°C)  일강수량(mm)  평균 풍속(m/s)     년  월\n",
              "0  401  서초구  2016.1.1       2.5       0.0         0.6  2016  1\n",
              "1  401  서초구  2016.1.2       7.5       0.0         0.8  2016  1\n",
              "2  401  서초구  2016.1.3       7.6       0.0         0.6  2016  1\n",
              "3  401  서초구  2016.1.4       3.4       0.0         1.8  2016  1\n",
              "4  401  서초구  2016.1.5      -0.8       0.0         1.5  2016  1"
            ]
          },
          "metadata": {},
          "execution_count": 5
        }
      ]
    },
    {
      "cell_type": "code",
      "metadata": {
        "colab": {
          "base_uri": "https://localhost:8080/",
          "height": 204
        },
        "id": "hzGKzOyDP8Fv",
        "outputId": "88ca34c0-e92f-4f9e-9af8-d70607ffe67d"
      },
      "source": [
        "df.tail()"
      ],
      "execution_count": 6,
      "outputs": [
        {
          "output_type": "execute_result",
          "data": {
            "text/html": [
              "<div>\n",
              "<style scoped>\n",
              "    .dataframe tbody tr th:only-of-type {\n",
              "        vertical-align: middle;\n",
              "    }\n",
              "\n",
              "    .dataframe tbody tr th {\n",
              "        vertical-align: top;\n",
              "    }\n",
              "\n",
              "    .dataframe thead th {\n",
              "        text-align: right;\n",
              "    }\n",
              "</style>\n",
              "<table border=\"1\" class=\"dataframe\">\n",
              "  <thead>\n",
              "    <tr style=\"text-align: right;\">\n",
              "      <th></th>\n",
              "      <th>지점</th>\n",
              "      <th>지점명</th>\n",
              "      <th>일시</th>\n",
              "      <th>평균기온(°C)</th>\n",
              "      <th>일강수량(mm)</th>\n",
              "      <th>평균 풍속(m/s)</th>\n",
              "      <th>년</th>\n",
              "      <th>월</th>\n",
              "    </tr>\n",
              "  </thead>\n",
              "  <tbody>\n",
              "    <tr>\n",
              "      <th>14603</th>\n",
              "      <td>510</td>\n",
              "      <td>영등포구</td>\n",
              "      <td>2020.12.27</td>\n",
              "      <td>6.8</td>\n",
              "      <td>0.0</td>\n",
              "      <td>0.6</td>\n",
              "      <td>2020</td>\n",
              "      <td>12</td>\n",
              "    </tr>\n",
              "    <tr>\n",
              "      <th>14604</th>\n",
              "      <td>510</td>\n",
              "      <td>영등포구</td>\n",
              "      <td>2020.12.28</td>\n",
              "      <td>7.4</td>\n",
              "      <td>1.0</td>\n",
              "      <td>0.6</td>\n",
              "      <td>2020</td>\n",
              "      <td>12</td>\n",
              "    </tr>\n",
              "    <tr>\n",
              "      <th>14605</th>\n",
              "      <td>510</td>\n",
              "      <td>영등포구</td>\n",
              "      <td>2020.12.29</td>\n",
              "      <td>0.9</td>\n",
              "      <td>0.0</td>\n",
              "      <td>1.3</td>\n",
              "      <td>2020</td>\n",
              "      <td>12</td>\n",
              "    </tr>\n",
              "    <tr>\n",
              "      <th>14606</th>\n",
              "      <td>510</td>\n",
              "      <td>영등포구</td>\n",
              "      <td>2020.12.30</td>\n",
              "      <td>-9.8</td>\n",
              "      <td>0.0</td>\n",
              "      <td>2.2</td>\n",
              "      <td>2020</td>\n",
              "      <td>12</td>\n",
              "    </tr>\n",
              "    <tr>\n",
              "      <th>14607</th>\n",
              "      <td>510</td>\n",
              "      <td>영등포구</td>\n",
              "      <td>2020.12.31</td>\n",
              "      <td>-7.7</td>\n",
              "      <td>0.0</td>\n",
              "      <td>1.4</td>\n",
              "      <td>2020</td>\n",
              "      <td>12</td>\n",
              "    </tr>\n",
              "  </tbody>\n",
              "</table>\n",
              "</div>"
            ],
            "text/plain": [
              "        지점   지점명          일시  평균기온(°C)  일강수량(mm)  평균 풍속(m/s)     년   월\n",
              "14603  510  영등포구  2020.12.27       6.8       0.0         0.6  2020  12\n",
              "14604  510  영등포구  2020.12.28       7.4       1.0         0.6  2020  12\n",
              "14605  510  영등포구  2020.12.29       0.9       0.0         1.3  2020  12\n",
              "14606  510  영등포구  2020.12.30      -9.8       0.0         2.2  2020  12\n",
              "14607  510  영등포구  2020.12.31      -7.7       0.0         1.4  2020  12"
            ]
          },
          "metadata": {},
          "execution_count": 6
        }
      ]
    },
    {
      "cell_type": "code",
      "metadata": {
        "id": "SmePpYw0QS0X"
      },
      "source": [
        "df.to_csv('weather_dataset(2017-2020).csv', encoding='utf-8-sig')"
      ],
      "execution_count": null,
      "outputs": []
    }
  ]
}