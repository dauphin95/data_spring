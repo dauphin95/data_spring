{
  "nbformat": 4,
  "nbformat_minor": 0,
  "metadata": {
    "colab": {
      "name": "Untitled6.ipynb",
      "provenance": [],
      "authorship_tag": "ABX9TyNPMMrPu7E6BeQoQcxBH2nf",
      "include_colab_link": true
    },
    "kernelspec": {
      "name": "python3",
      "display_name": "Python 3"
    },
    "language_info": {
      "name": "python"
    }
  },
  "cells": [
    {
      "cell_type": "markdown",
      "metadata": {
        "id": "view-in-github",
        "colab_type": "text"
      },
      "source": [
        "<a href=\"https://colab.research.google.com/github/dauphin95/data_spring/blob/master/%EC%95%8C%EA%B3%A0%EB%A6%AC%EC%A6%98_%ED%8C%8C%EB%9D%BC%EB%AF%B8%ED%84%B0/pca.ipynb\" target=\"_parent\"><img src=\"https://colab.research.google.com/assets/colab-badge.svg\" alt=\"Open In Colab\"/></a>"
      ]
    },
    {
      "cell_type": "code",
      "metadata": {
        "id": "7MfYn5A5yjK5"
      },
      "source": [
        "!pip install -U pandas-profiling"
      ],
      "execution_count": null,
      "outputs": []
    },
    {
      "cell_type": "code",
      "metadata": {
        "id": "2cMxZidCykvx"
      },
      "source": [
        "import pandas as pd"
      ],
      "execution_count": 1,
      "outputs": []
    },
    {
      "cell_type": "code",
      "metadata": {
        "id": "kawySM6ly2jc"
      },
      "source": [
        "\n",
        "df = pd.read_csv('credit_cards_dataset.csv')"
      ],
      "execution_count": 21,
      "outputs": []
    },
    {
      "cell_type": "code",
      "metadata": {
        "id": "_NXfJnzzy5ZP"
      },
      "source": [
        "from sklearn.decomposition import PCA"
      ],
      "execution_count": 22,
      "outputs": []
    },
    {
      "cell_type": "code",
      "metadata": {
        "colab": {
          "base_uri": "https://localhost:8080/",
          "height": 142
        },
        "id": "vIF5lux5y7oA",
        "outputId": "e1df2094-a518-474d-f173-7920c237f415"
      },
      "source": [
        "df_Pay_Score = df[['PAY_0','PAY_2', 'PAY_3', 'PAY_4', 'PAY_5', 'PAY_6']]\n",
        "df_Bill_Amount = df[[ 'BILL_AMT1', 'BILL_AMT2','BILL_AMT3', 'BILL_AMT4', 'BILL_AMT5', 'BILL_AMT6']]\n",
        "df_Pay_Amount = df[['PAY_AMT1','PAY_AMT2', 'PAY_AMT3', 'PAY_AMT4', 'PAY_AMT5', 'PAY_AMT6']]\n",
        "df_Pay_Score.head(3)"
      ],
      "execution_count": 23,
      "outputs": [
        {
          "output_type": "execute_result",
          "data": {
            "text/html": [
              "<div>\n",
              "<style scoped>\n",
              "    .dataframe tbody tr th:only-of-type {\n",
              "        vertical-align: middle;\n",
              "    }\n",
              "\n",
              "    .dataframe tbody tr th {\n",
              "        vertical-align: top;\n",
              "    }\n",
              "\n",
              "    .dataframe thead th {\n",
              "        text-align: right;\n",
              "    }\n",
              "</style>\n",
              "<table border=\"1\" class=\"dataframe\">\n",
              "  <thead>\n",
              "    <tr style=\"text-align: right;\">\n",
              "      <th></th>\n",
              "      <th>PAY_0</th>\n",
              "      <th>PAY_2</th>\n",
              "      <th>PAY_3</th>\n",
              "      <th>PAY_4</th>\n",
              "      <th>PAY_5</th>\n",
              "      <th>PAY_6</th>\n",
              "    </tr>\n",
              "  </thead>\n",
              "  <tbody>\n",
              "    <tr>\n",
              "      <th>0</th>\n",
              "      <td>2</td>\n",
              "      <td>2</td>\n",
              "      <td>-1</td>\n",
              "      <td>-1</td>\n",
              "      <td>-2</td>\n",
              "      <td>-2</td>\n",
              "    </tr>\n",
              "    <tr>\n",
              "      <th>1</th>\n",
              "      <td>-1</td>\n",
              "      <td>2</td>\n",
              "      <td>0</td>\n",
              "      <td>0</td>\n",
              "      <td>0</td>\n",
              "      <td>2</td>\n",
              "    </tr>\n",
              "    <tr>\n",
              "      <th>2</th>\n",
              "      <td>0</td>\n",
              "      <td>0</td>\n",
              "      <td>0</td>\n",
              "      <td>0</td>\n",
              "      <td>0</td>\n",
              "      <td>0</td>\n",
              "    </tr>\n",
              "  </tbody>\n",
              "</table>\n",
              "</div>"
            ],
            "text/plain": [
              "   PAY_0  PAY_2  PAY_3  PAY_4  PAY_5  PAY_6\n",
              "0      2      2     -1     -1     -2     -2\n",
              "1     -1      2      0      0      0      2\n",
              "2      0      0      0      0      0      0"
            ]
          },
          "metadata": {},
          "execution_count": 23
        }
      ]
    },
    {
      "cell_type": "code",
      "metadata": {
        "id": "MeYVisbmzCT_"
      },
      "source": [
        "trans = PCA(n_components=1)\n",
        "X_Pay_Score = df_Pay_Score.values\n",
        "X_Bill_Amount = df_Bill_Amount.values\n",
        "X_Pay_Amount = df_Pay_Amount.values"
      ],
      "execution_count": 24,
      "outputs": []
    },
    {
      "cell_type": "code",
      "metadata": {
        "id": "QnclQ3WbzEd5"
      },
      "source": [
        "\n",
        "# transform the data\n",
        "X_dim = trans.fit_transform(X_Pay_Score)\n",
        "df_X_dim_Pay_Score = pd.DataFrame(X_dim, columns=['Pay_AVR'])\n",
        "\n",
        "# transform the data\n",
        "X_dim = trans.fit_transform(X_Bill_Amount)\n",
        "df_X_dim_Bill_Amount = pd.DataFrame(X_dim, columns=['Bill_AVR'])\n",
        "\n",
        "# transform the data\n",
        "X_dim = trans.fit_transform(X_Pay_Amount)\n",
        "df_X_dim_Pay_Amount = pd.DataFrame(X_dim, columns=['P_AMT_AVR'])"
      ],
      "execution_count": 25,
      "outputs": []
    },
    {
      "cell_type": "code",
      "metadata": {
        "id": "-hfAbBpPzGbj"
      },
      "source": [
        "df = pd.concat([df, df_X_dim_Pay_Score, df_X_dim_Bill_Amount, df_X_dim_Pay_Amount], axis=1)"
      ],
      "execution_count": 26,
      "outputs": []
    },
    {
      "cell_type": "code",
      "metadata": {
        "colab": {
          "base_uri": "https://localhost:8080/"
        },
        "id": "J_vFbQq61uG7",
        "outputId": "a2018b23-c6a9-41f9-8357-484ec50317d5"
      },
      "source": [
        "df.columns"
      ],
      "execution_count": 29,
      "outputs": [
        {
          "output_type": "execute_result",
          "data": {
            "text/plain": [
              "Index(['ID', 'LIMIT_BAL', 'SEX', 'EDUCATION', 'MARRIAGE', 'AGE', 'PAY_0',\n",
              "       'PAY_2', 'PAY_3', 'PAY_4', 'PAY_5', 'PAY_6', 'BILL_AMT1', 'BILL_AMT2',\n",
              "       'BILL_AMT3', 'BILL_AMT4', 'BILL_AMT5', 'BILL_AMT6', 'PAY_AMT1',\n",
              "       'PAY_AMT2', 'PAY_AMT3', 'PAY_AMT4', 'PAY_AMT5', 'PAY_AMT6',\n",
              "       'default.payment.next.month', 'Pay_AVR', 'Bill_AVR', 'P_AMT_AVR'],\n",
              "      dtype='object')"
            ]
          },
          "metadata": {},
          "execution_count": 29
        }
      ]
    },
    {
      "cell_type": "code",
      "metadata": {
        "id": "_G-fFUXe1vg3"
      },
      "source": [
        "X = df.drop(['ID','PAY_0','PAY_2', 'PAY_3', 'PAY_4', 'PAY_5', 'PAY_6','BILL_AMT1', 'BILL_AMT2','BILL_AMT3', 'BILL_AMT4', 'BILL_AMT5', 'BILL_AMT6', 'PAY_AMT1','PAY_AMT2', 'PAY_AMT3', 'PAY_AMT4', 'PAY_AMT5', 'PAY_AMT6', 'default.payment.next.month'], axis =1).values\n",
        "y = df['default.payment.next.month'].values"
      ],
      "execution_count": 49,
      "outputs": []
    },
    {
      "cell_type": "code",
      "metadata": {
        "id": "FEmazDUOzIrK"
      },
      "source": [
        "# X = df.drop(df.iloc[:,6:25], axis =1).values\n",
        "# y = df['default.payment.next.month'].values"
      ],
      "execution_count": 45,
      "outputs": []
    },
    {
      "cell_type": "code",
      "metadata": {
        "colab": {
          "base_uri": "https://localhost:8080/"
        },
        "id": "-KFhWz1WzKww",
        "outputId": "c1d7b218-28d4-4539-bc9e-212f7cfb616c"
      },
      "source": [
        "## 랜덤포레스트 알고리즘\n",
        "from sklearn.model_selection import train_test_split\n",
        "# from sklearn.linear_model import LogisticRegression\n",
        "# from sklearn.ensemble import RandomForestClassifier\n",
        "from sklearn.tree import DecisionTreeClassifier\n",
        "\n",
        "\n",
        "test_size = 0.3\n",
        "seed = 42\n",
        "X_train, X_test, Y_train, Y_test = train_test_split(X, y, test_size=test_size, random_state=seed)\n",
        "# model = RandomForestClassifier(n_estimators=150, criterion = 'entropy', max_features='auto')\n",
        "model = DecisionTreeClassifier()\n",
        "model.fit(X_train, Y_train)\n",
        "\n",
        "result = model.score(X_test, Y_test)\n",
        "print(f\"Accuracy: {result*100}\")"
      ],
      "execution_count": 50,
      "outputs": [
        {
          "output_type": "stream",
          "name": "stdout",
          "text": [
            "Accuracy: 72.05555555555556\n"
          ]
        }
      ]
    },
    {
      "cell_type": "code",
      "metadata": {
        "colab": {
          "base_uri": "https://localhost:8080/"
        },
        "id": "g3XX9ygWzY-U",
        "outputId": "d115a6c9-7545-4ba2-9044-166d4d119025"
      },
      "source": [
        "## 리콜값 검증 (recall) -> 거의 맞지 않음, 새로운 알고리즘 가져오기\n",
        "from sklearn.metrics import recall_score\n",
        "\n",
        "y_predict = model.predict(X_test)\n",
        "\n",
        "print(\"Recall score:\"+ str(recall_score(Y_test, y_predict)))"
      ],
      "execution_count": 51,
      "outputs": [
        {
          "output_type": "stream",
          "name": "stdout",
          "text": [
            "Recall score:0.3989795918367347\n"
          ]
        }
      ]
    },
    {
      "cell_type": "code",
      "metadata": {
        "colab": {
          "base_uri": "https://localhost:8080/",
          "height": 376
        },
        "id": "kXfrG-xwzZdp",
        "outputId": "19b2d57b-f2e9-4816-a8aa-40e64647e28d"
      },
      "source": [
        "from sklearn.metrics import confusion_matrix\n",
        "import itertools\n",
        "import numpy as np\n",
        "import matplotlib.pyplot as plt\n",
        "\n",
        "def plot_confusion_matrix(cm, classes,\n",
        "                          normalize=False,\n",
        "                          title='Confusion matrix',\n",
        "                          cmap=plt.cm.Blues):\n",
        "    if normalize:\n",
        "        cm = cm.astype('float') / cm.sum(axis=1)[:, np.newaxis]\n",
        "        print(\"Normalized confusion matrix\")\n",
        "    else:\n",
        "        print('Confusion matrix, without normalization')\n",
        "\n",
        "    print(cm)\n",
        "    \n",
        "    plt.imshow(cm, interpolation='nearest', cmap=cmap)\n",
        "    plt.title(title)\n",
        "    plt.colorbar()\n",
        "    tick_marks = np.arange(len(classes))\n",
        "    plt.xticks(tick_marks, classes, rotation=45)\n",
        "    plt.yticks(tick_marks, classes)\n",
        "\n",
        "    fmt = '.2f' if normalize else 'd'\n",
        "    thresh = cm.max() / 2.\n",
        "    for i, j in itertools.product(range(cm.shape[0]), range(cm.shape[1])):\n",
        "        plt.text(j, i, format(cm[i, j], fmt),\n",
        "                 horizontalalignment=\"center\",\n",
        "                 color=\"white\" if cm[i, j] > thresh else \"black\")\n",
        "        \n",
        "cnf_matrix = confusion_matrix(Y_test, y_predict)\n",
        "plt.figure()\n",
        "plot_confusion_matrix(cnf_matrix, classes=['Non_Default','Default'], normalize=False,\n",
        "                      title='Non Normalized confusion matrix')"
      ],
      "execution_count": 12,
      "outputs": [
        {
          "output_type": "stream",
          "name": "stdout",
          "text": [
            "Confusion matrix, without normalization\n",
            "[[6578  462]\n",
            " [1297  663]]\n"
          ]
        },
        {
          "output_type": "display_data",
          "data": {
            "image/png": "[encoded data removed]",
            "text/plain": [
              "<Figure size 432x288 with 2 Axes>"
            ]
          },
          "metadata": {
            "needs_background": "light"
          }
        }
      ]
    },
    {
      "cell_type": "code",
      "metadata": {
        "colab": {
          "base_uri": "https://localhost:8080/"
        },
        "id": "bHY_9po5za_s",
        "outputId": "8f1e2307-0561-46a6-cd21-13d7a1ef4edf"
      },
      "source": [
        "import sklearn.metrics as metrics\n",
        "\n",
        "print('accuracy', metrics.accuracy_score(Y_test, y_predict) )\n",
        "\n",
        "print('precision', metrics.precision_score(Y_test, y_predict) )\n",
        "\n",
        "print('recall', metrics.recall_score(Y_test, y_predict) )\n",
        "\n",
        "print('f1', metrics.f1_score(Y_test, y_predict) )\n",
        "\n",
        "print(metrics.classification_report(Y_test, y_predict))\n",
        "\n",
        "print(metrics.confusion_matrix(Y_test, y_predict))"
      ],
      "execution_count": 52,
      "outputs": [
        {
          "output_type": "stream",
          "name": "stdout",
          "text": [
            "accuracy 0.7205555555555555\n",
            "precision 0.36904200094384143\n",
            "recall 0.3989795918367347\n",
            "f1 0.3834273106153469\n",
            "              precision    recall  f1-score   support\n",
            "\n",
            "           0       0.83      0.81      0.82      7040\n",
            "           1       0.37      0.40      0.38      1960\n",
            "\n",
            "    accuracy                           0.72      9000\n",
            "   macro avg       0.60      0.60      0.60      9000\n",
            "weighted avg       0.73      0.72      0.72      9000\n",
            "\n",
            "[[5703 1337]\n",
            " [1178  782]]\n"
          ]
        }
      ]
    },
    {
      "cell_type": "code",
      "metadata": {
        "id": "NACYQxwfzcl2"
      },
      "source": [
        ""
      ],
      "execution_count": null,
      "outputs": []
    }
  ]
}