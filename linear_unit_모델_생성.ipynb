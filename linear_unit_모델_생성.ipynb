{
  "nbformat": 4,
  "nbformat_minor": 0,
  "metadata": {
    "colab": {
      "name": "linear unit 모델 생성.ipynb",
      "provenance": [],
      "authorship_tag": "ABX9TyOjirXB/PZS6ZOuKjzu1jVD",
      "include_colab_link": true
    },
    "kernelspec": {
      "name": "python3",
      "display_name": "Python 3"
    },
    "language_info": {
      "name": "python"
    }
  },
  "cells": [
    {
      "cell_type": "markdown",
      "metadata": {
        "id": "view-in-github",
        "colab_type": "text"
      },
      "source": [
        "<a href=\"https://colab.research.google.com/github/dauphin95/data_spring/blob/master/linear_unit_%EB%AA%A8%EB%8D%B8_%EC%83%9D%EC%84%B1.ipynb\" target=\"_parent\"><img src=\"https://colab.research.google.com/assets/colab-badge.svg\" alt=\"Open In Colab\"/></a>"
      ]
    },
    {
      "cell_type": "code",
      "metadata": {
        "id": "ANnKGa4KRpdQ"
      },
      "source": [
        "from tensorflow import keras\n",
        "from tensorflow.keras import layers"
      ],
      "execution_count": 1,
      "outputs": []
    },
    {
      "cell_type": "code",
      "metadata": {
        "id": "0W5iHN_6RwEY"
      },
      "source": [
        "## 1 linear unit 모델 생성\n",
        "model = keras.Sequential([\n",
        "    layers.Dense(units=50, input_shape=[24]),\n",
        "    layers.Dense(units=60),\n",
        "    layers.Dense(units=70),\n",
        "    layers.Dense(units=60),\n",
        "    layers.Dense(units=40),\n",
        "    layers.Dense(units=30),\n",
        "    layers.Dense(units=20),\n",
        "    layers.Dense(units=15),\n",
        "    layers.Dense(units=2)\n",
        "    ])"
      ],
      "execution_count": 7,
      "outputs": []
    },
    {
      "cell_type": "code",
      "metadata": {
        "colab": {
          "base_uri": "https://localhost:8080/"
        },
        "id": "dZEvM9gZTG9l",
        "outputId": "8797f209-4a3c-449f-d891-72b13a7bc7b6"
      },
      "source": [
        "model.summary()\n",
        "\n",
        "## param = 50*24 + bias(50)"
      ],
      "execution_count": 8,
      "outputs": [
        {
          "output_type": "stream",
          "name": "stdout",
          "text": [
            "Model: \"sequential_1\"\n",
            "_________________________________________________________________\n",
            "Layer (type)                 Output Shape              Param #   \n",
            "=================================================================\n",
            "dense_9 (Dense)              (None, 50)                1250      \n",
            "_________________________________________________________________\n",
            "dense_10 (Dense)             (None, 60)                3060      \n",
            "_________________________________________________________________\n",
            "dense_11 (Dense)             (None, 70)                4270      \n",
            "_________________________________________________________________\n",
            "dense_12 (Dense)             (None, 60)                4260      \n",
            "_________________________________________________________________\n",
            "dense_13 (Dense)             (None, 40)                2440      \n",
            "_________________________________________________________________\n",
            "dense_14 (Dense)             (None, 30)                1230      \n",
            "_________________________________________________________________\n",
            "dense_15 (Dense)             (None, 20)                620       \n",
            "_________________________________________________________________\n",
            "dense_16 (Dense)             (None, 15)                315       \n",
            "_________________________________________________________________\n",
            "dense_17 (Dense)             (None, 2)                 32        \n",
            "=================================================================\n",
            "Total params: 17,477\n",
            "Trainable params: 17,477\n",
            "Non-trainable params: 0\n",
            "_________________________________________________________________\n"
          ]
        }
      ]
    }
  ]
}